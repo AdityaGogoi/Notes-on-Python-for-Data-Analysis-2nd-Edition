{
 "cells": [
  {
   "cell_type": "markdown",
   "metadata": {},
   "source": [
    "## Introduction\n",
    "#### Here, we will look into the deeper functionality of the IPython system that can be used from comsole or within Jupyter.\n",
    "#### NOTE - Most of the commands here are related to IPython console and not Jupyter notebook. Wherever applicable, we will provide code examples. But otherwise, most of the knowledge would be theoretical."
   ]
  },
  {
   "cell_type": "markdown",
   "metadata": {},
   "source": [
    "## Using the Command History\n",
    "#### IPython maintains a small, on-disk database containing the text of each command that you executed.\n",
    "#### This serves various purposes:\n",
    "####     1. Searching, completing and executing previously executed commands with minimal typing\n",
    "####     2. Persisting the command history between sessions\n",
    "####     3. Logging input/output history to file\n",
    "#### These features are more useful in the shell than in the notebook, as notebook by design keeps log of input and output in each code cell.."
   ]
  },
  {
   "cell_type": "markdown",
   "metadata": {},
   "source": [
    "### Searching and Reusing the Command History\n",
    "#### IPython shell lets you search and execute previous code or command. This is useful for using repeating commands (eg - %run).\n",
    "#### Lets assume that you ran a code as shown below and found an error. After modifying the script, you can start typing first few letters of the %run command and press either 'Ctrl-P' or 'up' arrow key.\n",
    "#### This will search command history for the first prior command matching the typed letters.\n",
    "#### By repeating the same key combinations repeatedly, you can continue to search through history.\n",
    "#### You can move 'ahead' in the history by pressing 'Ctrl-N' or 'down' arraow key.\n",
    "#### By using 'Ctrl-R', we get partial incremental searching similar to 'readline' in Unix-style shells.\n",
    "#### In Windows, you can do the same by pressing 'Ctrl-R' then type few characters contained in input line you want to search for.\n",
    "#### Pressing 'Ctrl-R' will cycle through history for each line matching the characters typed."
   ]
  },
  {
   "cell_type": "code",
   "execution_count": 4,
   "metadata": {},
   "outputs": [],
   "source": [
    "# # Example of %run command that may need to be repeated\n",
    "# %run first/second/third/data_script.py"
   ]
  },
  {
   "cell_type": "markdown",
   "metadata": {},
   "source": [
    "### Input and Output Variables\n",
    "#### Sometimes we forget to assign the result of a function to a variable. IPython stores references to both input commands and output objects in special variables.\n",
    "#### The previous 2 outputs are stored in _ (1 underscore) and __ (2 underscores) respectively."
   ]
  },
  {
   "cell_type": "code",
   "execution_count": 6,
   "metadata": {},
   "outputs": [
    {
     "data": {
      "text/plain": [
       "134217728"
      ]
     },
     "execution_count": 6,
     "metadata": {},
     "output_type": "execute_result"
    }
   ],
   "source": [
    "2 ** 27"
   ]
  },
  {
   "cell_type": "code",
   "execution_count": 7,
   "metadata": {},
   "outputs": [
    {
     "data": {
      "text/plain": [
       "134217728"
      ]
     },
     "execution_count": 7,
     "metadata": {},
     "output_type": "execute_result"
    }
   ],
   "source": [
    "_"
   ]
  },
  {
   "cell_type": "markdown",
   "metadata": {},
   "source": [
    "#### Input variables are stored in variables named like '_iX' where 'X' is the input line number.\n",
    "#### For each input variable, we have a corresponding output variable '_X'. eg - For line 27, we have _27 (output) and i_27 (input).\n",
    "#### Since the input variables are Strings, they can be executed again with 'exec' keyword."
   ]
  },
  {
   "cell_type": "code",
   "execution_count": 9,
   "metadata": {},
   "outputs": [],
   "source": [
    "foo = 'bar'"
   ]
  },
  {
   "cell_type": "code",
   "execution_count": 10,
   "metadata": {},
   "outputs": [
    {
     "data": {
      "text/plain": [
       "'bar'"
      ]
     },
     "execution_count": 10,
     "metadata": {},
     "output_type": "execute_result"
    }
   ],
   "source": [
    "foo"
   ]
  },
  {
   "cell_type": "code",
   "execution_count": 11,
   "metadata": {},
   "outputs": [
    {
     "data": {
      "text/plain": [
       "'foo'"
      ]
     },
     "execution_count": 11,
     "metadata": {},
     "output_type": "execute_result"
    }
   ],
   "source": [
    "_i10"
   ]
  },
  {
   "cell_type": "code",
   "execution_count": 12,
   "metadata": {},
   "outputs": [
    {
     "data": {
      "text/plain": [
       "'bar'"
      ]
     },
     "execution_count": 12,
     "metadata": {},
     "output_type": "execute_result"
    }
   ],
   "source": [
    "_10"
   ]
  },
  {
   "cell_type": "markdown",
   "metadata": {},
   "source": [
    "#### There are several 'magic functions' which allow to work with input and output history. '%hist' is capable for printing all or part of input history, with or without line numbers.\n",
    "#### '%reset' clears interactive namespace and optionally input and output caches.\n",
    "#### '%xdel' removes all references to a particular object form IPython machinery.\n",
    "#### WARNING - When working with large datasets, IPython's input and output history causes any object referenced not to be 'garbage-collected' (i.e freeing up memory) even if you delete the variables from namespace using 'del'. Only '%xdel' and '%reset' can help you with memory problems."
   ]
  },
  {
   "cell_type": "markdown",
   "metadata": {},
   "source": [
    "## Interacting with Operating System\n",
    "#### IPython also allows seamless access to filesystem and operating system shell. You can perform standard command line actions like Windows or Linux shell without exiting IPython.\n",
    "#### This includes shell commands, changing directions or storing the results of a command. This also includes simple command aliasing and directory bookmarking."
   ]
  },
  {
   "cell_type": "markdown",
   "metadata": {},
   "source": [
    "### Shell Commands and Aliases\n",
    "#### Starting a line with ! (exclamation or bang) tells IPython that what follows is a shell command.\n",
    "#### You can store console output in a variable by assigning the expression escaped with ! to a variable.\n",
    "#### The returned Python object is a custom list type having various versions of console output."
   ]
  },
  {
   "cell_type": "code",
   "execution_count": 18,
   "metadata": {},
   "outputs": [
    {
     "data": {
      "text/plain": [
       "'IPv6 Address. . . . . . . . . . . : 2601:c0:8180:378a:e4b6:e239:2a6:2930'"
      ]
     },
     "execution_count": 18,
     "metadata": {},
     "output_type": "execute_result"
    }
   ],
   "source": [
    "ip_info = !ipconfig\n",
    "\n",
    "ip_info[23].strip()"
   ]
  },
  {
   "cell_type": "markdown",
   "metadata": {},
   "source": [
    "#### IPython can also substitute values in Python in current environment using '!'. To do this preface variable name with dollar sign.\n",
    "#### The '%alias' magic function can define custom shortcuts for shell commands.\n",
    "#### You can execute mutiple commands like on the command line by seperating with semicolons.\n",
    "#### IPython 'forgets' aliases you define interactively as soon as the session closes. To create permanent aliases, use the configuration system."
   ]
  },
  {
   "cell_type": "code",
   "execution_count": 21,
   "metadata": {},
   "outputs": [
    {
     "name": "stdout",
     "output_type": "stream",
     "text": [
      " Volume in drive C has no label.\n",
      " Volume Serial Number is 2605-B644\n",
      "\n",
      " Directory of C:\\Users\\adity\\PythonForDataAnalysis\n",
      "\n",
      "09/07/2018  03:57 PM           574,196 Appendix A - Advanced NumPy.ipynb\n",
      "09/08/2018  12:05 PM             8,213 Appendix B - More on IPython System.ipynb\n",
      "               2 File(s)        582,409 bytes\n",
      "               0 Dir(s)  435,794,505,728 bytes free\n"
     ]
    }
   ],
   "source": [
    "foo = 'Appendix*'\n",
    "\n",
    "!dir $foo"
   ]
  },
  {
   "cell_type": "code",
   "execution_count": 26,
   "metadata": {},
   "outputs": [],
   "source": [
    "# alias does not work the same for Windows\n",
    "# %alias 'test_alias' (cd examples; dir)\n",
    "# test_alias"
   ]
  },
  {
   "cell_type": "markdown",
   "metadata": {},
   "source": [
    "### Directory Bookmark System\n",
    "#### IPython has simple directory bookmarking system that enables you to save aliases for common directories so that you can jump around very easily.\n",
    "#### After creating the bookmark using '%bookmark', you can use the '%cd' magic to use the bookmark defined.\n",
    "#### If a bookmark conflict with directory name in current working directory, you can use '-b' flag to override and use bookmark location.\n",
    "#### Using the '-l' option with '%bookmark' lists all your bookmarks.\n",
    "#### Bookmarks, unlike aliases are automatically persisted between IPython sessions."
   ]
  },
  {
   "cell_type": "code",
   "execution_count": 28,
   "metadata": {},
   "outputs": [],
   "source": [
    "%bookmark datasets C:\\Users\\adity\\PythonForDataAnalysis\\datasets"
   ]
  },
  {
   "cell_type": "code",
   "execution_count": 29,
   "metadata": {},
   "outputs": [
    {
     "name": "stdout",
     "output_type": "stream",
     "text": [
      "C:\\Users\\adity\\PythonForDataAnalysis\\datasets\n"
     ]
    }
   ],
   "source": [
    "cd datasets"
   ]
  },
  {
   "cell_type": "code",
   "execution_count": 30,
   "metadata": {},
   "outputs": [
    {
     "name": "stdout",
     "output_type": "stream",
     "text": [
      " Volume in drive C has no label.\n",
      " Volume Serial Number is 2605-B644\n",
      "\n",
      " Directory of C:\\Users\\adity\\PythonForDataAnalysis\\datasets\n",
      "\n",
      "07/10/2018  02:24 PM    <DIR>          .\n",
      "07/10/2018  02:24 PM    <DIR>          ..\n",
      "07/10/2018  02:24 PM    <DIR>          babynames\n",
      "07/10/2018  02:24 PM    <DIR>          bitly_usagov\n",
      "07/10/2018  02:24 PM    <DIR>          fec\n",
      "07/10/2018  02:24 PM    <DIR>          haiti\n",
      "07/10/2018  02:24 PM    <DIR>          movielens\n",
      "07/10/2018  02:24 PM    <DIR>          mta_perf\n",
      "07/10/2018  02:24 PM    <DIR>          titanic\n",
      "07/10/2018  02:24 PM    <DIR>          usda_food\n",
      "               0 File(s)              0 bytes\n",
      "              10 Dir(s)  435,658,518,528 bytes free\n"
     ]
    }
   ],
   "source": [
    "!dir"
   ]
  },
  {
   "cell_type": "code",
   "execution_count": 33,
   "metadata": {},
   "outputs": [
    {
     "name": "stdout",
     "output_type": "stream",
     "text": [
      "C:\\Users\\adity\\PythonForDataAnalysis\n"
     ]
    }
   ],
   "source": [
    "cd .."
   ]
  },
  {
   "cell_type": "code",
   "execution_count": 31,
   "metadata": {},
   "outputs": [
    {
     "name": "stdout",
     "output_type": "stream",
     "text": [
      "Current bookmarks:\n",
      "datasets -> C:\\Users\\adity\\PythonForDataAnalysis\\datasets\n"
     ]
    }
   ],
   "source": [
    "%bookmark -l"
   ]
  },
  {
   "cell_type": "markdown",
   "metadata": {},
   "source": [
    "## Software Development Tools\n",
    "#### In addition to being a comfortable environment for data exploration, IPython can also be useful for general software development.\n",
    "#### In data analysis, its important to first have the correct code. IPython has closely integrated and enhanced the Python 'pdb debugger'.\n",
    "#### To make your software fast, IPython has easy-to-use timing and profiling tools."
   ]
  },
  {
   "cell_type": "markdown",
   "metadata": {},
   "source": [
    "### Interactive Debugger\n",
    "#### IPython's debugger enhances 'pdb' with tab completion, syntax highlighting adn context for each line in exception tracebacks.\n",
    "#### The best time to debug is right after the error has occured. The '%debug' command, when entered immediately after exception, invokes 'post-mortem' debugger and drops you into stack frame where exception was raised.\n",
    "#### Once inside debugger, you can execute arbitrary Python code and explore all objects and data inside stack frame.\n",
    "#### By default, you start at lowest level, where error occured. By pressing u{up} or d(down) you can switch between levels fo stack trace.\n",
    "#### To exit debug mode, enter 'exit()' or press 'Ctrl-d'."
   ]
  },
  {
   "cell_type": "code",
   "execution_count": 35,
   "metadata": {},
   "outputs": [
    {
     "ename": "AssertionError",
     "evalue": "",
     "output_type": "error",
     "traceback": [
      "\u001b[1;31m---------------------------------------------------------------------------\u001b[0m",
      "\u001b[1;31mAssertionError\u001b[0m                            Traceback (most recent call last)",
      "\u001b[1;32m~\\PythonForDataAnalysis\\examples\\ipython_bug.py\u001b[0m in \u001b[0;36m<module>\u001b[1;34m()\u001b[0m\n\u001b[0;32m     13\u001b[0m     \u001b[0mthrows_an_exception\u001b[0m\u001b[1;33m(\u001b[0m\u001b[1;33m)\u001b[0m\u001b[1;33m\u001b[0m\u001b[0m\n\u001b[0;32m     14\u001b[0m \u001b[1;33m\u001b[0m\u001b[0m\n\u001b[1;32m---> 15\u001b[1;33m \u001b[0mcalling_things\u001b[0m\u001b[1;33m(\u001b[0m\u001b[1;33m)\u001b[0m\u001b[1;33m\u001b[0m\u001b[0m\n\u001b[0m",
      "\u001b[1;32m~\\PythonForDataAnalysis\\examples\\ipython_bug.py\u001b[0m in \u001b[0;36mcalling_things\u001b[1;34m()\u001b[0m\n\u001b[0;32m     11\u001b[0m \u001b[1;32mdef\u001b[0m \u001b[0mcalling_things\u001b[0m\u001b[1;33m(\u001b[0m\u001b[1;33m)\u001b[0m\u001b[1;33m:\u001b[0m\u001b[1;33m\u001b[0m\u001b[0m\n\u001b[0;32m     12\u001b[0m     \u001b[0mworks_fine\u001b[0m\u001b[1;33m(\u001b[0m\u001b[1;33m)\u001b[0m\u001b[1;33m\u001b[0m\u001b[0m\n\u001b[1;32m---> 13\u001b[1;33m     \u001b[0mthrows_an_exception\u001b[0m\u001b[1;33m(\u001b[0m\u001b[1;33m)\u001b[0m\u001b[1;33m\u001b[0m\u001b[0m\n\u001b[0m\u001b[0;32m     14\u001b[0m \u001b[1;33m\u001b[0m\u001b[0m\n\u001b[0;32m     15\u001b[0m \u001b[0mcalling_things\u001b[0m\u001b[1;33m(\u001b[0m\u001b[1;33m)\u001b[0m\u001b[1;33m\u001b[0m\u001b[0m\n",
      "\u001b[1;32m~\\PythonForDataAnalysis\\examples\\ipython_bug.py\u001b[0m in \u001b[0;36mthrows_an_exception\u001b[1;34m()\u001b[0m\n\u001b[0;32m      7\u001b[0m     \u001b[0ma\u001b[0m \u001b[1;33m=\u001b[0m \u001b[1;36m5\u001b[0m\u001b[1;33m\u001b[0m\u001b[0m\n\u001b[0;32m      8\u001b[0m     \u001b[0mb\u001b[0m \u001b[1;33m=\u001b[0m \u001b[1;36m6\u001b[0m\u001b[1;33m\u001b[0m\u001b[0m\n\u001b[1;32m----> 9\u001b[1;33m     \u001b[1;32massert\u001b[0m\u001b[1;33m(\u001b[0m\u001b[0ma\u001b[0m \u001b[1;33m+\u001b[0m \u001b[0mb\u001b[0m \u001b[1;33m==\u001b[0m \u001b[1;36m10\u001b[0m\u001b[1;33m)\u001b[0m\u001b[1;33m\u001b[0m\u001b[0m\n\u001b[0m\u001b[0;32m     10\u001b[0m \u001b[1;33m\u001b[0m\u001b[0m\n\u001b[0;32m     11\u001b[0m \u001b[1;32mdef\u001b[0m \u001b[0mcalling_things\u001b[0m\u001b[1;33m(\u001b[0m\u001b[1;33m)\u001b[0m\u001b[1;33m:\u001b[0m\u001b[1;33m\u001b[0m\u001b[0m\n",
      "\u001b[1;31mAssertionError\u001b[0m: "
     ]
    }
   ],
   "source": [
    "run examples/ipython_bug.py"
   ]
  },
  {
   "cell_type": "code",
   "execution_count": 36,
   "metadata": {},
   "outputs": [
    {
     "name": "stdout",
     "output_type": "stream",
     "text": [
      "> \u001b[1;32mc:\\users\\adity\\pythonfordataanalysis\\examples\\ipython_bug.py\u001b[0m(9)\u001b[0;36mthrows_an_exception\u001b[1;34m()\u001b[0m\n",
      "\u001b[1;32m      7 \u001b[1;33m    \u001b[0ma\u001b[0m \u001b[1;33m=\u001b[0m \u001b[1;36m5\u001b[0m\u001b[1;33m\u001b[0m\u001b[0m\n",
      "\u001b[0m\u001b[1;32m      8 \u001b[1;33m    \u001b[0mb\u001b[0m \u001b[1;33m=\u001b[0m \u001b[1;36m6\u001b[0m\u001b[1;33m\u001b[0m\u001b[0m\n",
      "\u001b[0m\u001b[1;32m----> 9 \u001b[1;33m    \u001b[1;32massert\u001b[0m\u001b[1;33m(\u001b[0m\u001b[0ma\u001b[0m \u001b[1;33m+\u001b[0m \u001b[0mb\u001b[0m \u001b[1;33m==\u001b[0m \u001b[1;36m10\u001b[0m\u001b[1;33m)\u001b[0m\u001b[1;33m\u001b[0m\u001b[0m\n",
      "\u001b[0m\u001b[1;32m     10 \u001b[1;33m\u001b[1;33m\u001b[0m\u001b[0m\n",
      "\u001b[0m\u001b[1;32m     11 \u001b[1;33m\u001b[1;32mdef\u001b[0m \u001b[0mcalling_things\u001b[0m\u001b[1;33m(\u001b[0m\u001b[1;33m)\u001b[0m\u001b[1;33m:\u001b[0m\u001b[1;33m\u001b[0m\u001b[0m\n",
      "\u001b[0m\n",
      "ipdb> u\n",
      "> \u001b[1;32mc:\\users\\adity\\pythonfordataanalysis\\examples\\ipython_bug.py\u001b[0m(13)\u001b[0;36mcalling_things\u001b[1;34m()\u001b[0m\n",
      "\u001b[1;32m     11 \u001b[1;33m\u001b[1;32mdef\u001b[0m \u001b[0mcalling_things\u001b[0m\u001b[1;33m(\u001b[0m\u001b[1;33m)\u001b[0m\u001b[1;33m:\u001b[0m\u001b[1;33m\u001b[0m\u001b[0m\n",
      "\u001b[0m\u001b[1;32m     12 \u001b[1;33m    \u001b[0mworks_fine\u001b[0m\u001b[1;33m(\u001b[0m\u001b[1;33m)\u001b[0m\u001b[1;33m\u001b[0m\u001b[0m\n",
      "\u001b[0m\u001b[1;32m---> 13 \u001b[1;33m    \u001b[0mthrows_an_exception\u001b[0m\u001b[1;33m(\u001b[0m\u001b[1;33m)\u001b[0m\u001b[1;33m\u001b[0m\u001b[0m\n",
      "\u001b[0m\u001b[1;32m     14 \u001b[1;33m\u001b[1;33m\u001b[0m\u001b[0m\n",
      "\u001b[0m\u001b[1;32m     15 \u001b[1;33m\u001b[0mcalling_things\u001b[0m\u001b[1;33m(\u001b[0m\u001b[1;33m)\u001b[0m\u001b[1;33m\u001b[0m\u001b[0m\n",
      "\u001b[0m\n",
      "ipdb> d\n",
      "> \u001b[1;32mc:\\users\\adity\\pythonfordataanalysis\\examples\\ipython_bug.py\u001b[0m(9)\u001b[0;36mthrows_an_exception\u001b[1;34m()\u001b[0m\n",
      "\u001b[1;32m      7 \u001b[1;33m    \u001b[0ma\u001b[0m \u001b[1;33m=\u001b[0m \u001b[1;36m5\u001b[0m\u001b[1;33m\u001b[0m\u001b[0m\n",
      "\u001b[0m\u001b[1;32m      8 \u001b[1;33m    \u001b[0mb\u001b[0m \u001b[1;33m=\u001b[0m \u001b[1;36m6\u001b[0m\u001b[1;33m\u001b[0m\u001b[0m\n",
      "\u001b[0m\u001b[1;32m----> 9 \u001b[1;33m    \u001b[1;32massert\u001b[0m\u001b[1;33m(\u001b[0m\u001b[0ma\u001b[0m \u001b[1;33m+\u001b[0m \u001b[0mb\u001b[0m \u001b[1;33m==\u001b[0m \u001b[1;36m10\u001b[0m\u001b[1;33m)\u001b[0m\u001b[1;33m\u001b[0m\u001b[0m\n",
      "\u001b[0m\u001b[1;32m     10 \u001b[1;33m\u001b[1;33m\u001b[0m\u001b[0m\n",
      "\u001b[0m\u001b[1;32m     11 \u001b[1;33m\u001b[1;32mdef\u001b[0m \u001b[0mcalling_things\u001b[0m\u001b[1;33m(\u001b[0m\u001b[1;33m)\u001b[0m\u001b[1;33m:\u001b[0m\u001b[1;33m\u001b[0m\u001b[0m\n",
      "\u001b[0m\n",
      "ipdb> exit()\n"
     ]
    }
   ],
   "source": [
    "%debug"
   ]
  },
  {
   "cell_type": "markdown",
   "metadata": {},
   "source": [
    "#### Executing '%pdb' makes it so that IPython automatically invokes the debugger after any exception, which many users may find useful.\n",
    "#### You can use the debugger to develop code, especially when you step through execution of function or script to examine each stage. There are several ways to accomplish this.\n",
    "#### First is to use '%run' with '-d' flag, which keeps invoking debugger before executing code in passed script. You must press 's' {step} to enter script.\n",
    "#### After this, you have to decide how to work through the file. eg - We can set 'breakpoint' right before 'works_fine' method and run the script until reaching the breakpoint by pressing 'c' (continue).\n",
    "#### Then we can step into 'works_fine()' or execute it by pressing 'n' (next) to execute next line.\n",
    "#### Then we could step into 'throws_an_exception()' and advance to the line where the error occurs and locate variables in the scope. Here, debugger command takes precedence over variable names, you need to preced variable names with ! to examine contents.\n",
    "#### Developing proficiency with interactive debugger requires practice and experience. It will take some time to master."
   ]
  },
  {
   "cell_type": "code",
   "execution_count": 40,
   "metadata": {},
   "outputs": [
    {
     "name": "stdout",
     "output_type": "stream",
     "text": [
      "Breakpoint 1 at c:\\users\\adity\\pythonfordataanalysis\\examples\\ipython_bug.py:1\n",
      "NOTE: Enter 'c' at the ipdb>  prompt to continue execution.\n",
      "> \u001b[1;32mc:\\users\\adity\\pythonfordataanalysis\\examples\\ipython_bug.py\u001b[0m(1)\u001b[0;36m<module>\u001b[1;34m()\u001b[0m\n",
      "\u001b[1;31m1\u001b[1;32m---> 1 \u001b[1;33m\u001b[1;32mdef\u001b[0m \u001b[0mworks_fine\u001b[0m\u001b[1;33m(\u001b[0m\u001b[1;33m)\u001b[0m\u001b[1;33m:\u001b[0m\u001b[1;33m\u001b[0m\u001b[0m\n",
      "\u001b[0m\u001b[1;32m      2 \u001b[1;33m    \u001b[0ma\u001b[0m \u001b[1;33m=\u001b[0m \u001b[1;36m5\u001b[0m\u001b[1;33m\u001b[0m\u001b[0m\n",
      "\u001b[0m\u001b[1;32m      3 \u001b[1;33m    \u001b[0mb\u001b[0m \u001b[1;33m=\u001b[0m \u001b[1;36m6\u001b[0m\u001b[1;33m\u001b[0m\u001b[0m\n",
      "\u001b[0m\u001b[1;32m      4 \u001b[1;33m    \u001b[1;32massert\u001b[0m\u001b[1;33m(\u001b[0m\u001b[0ma\u001b[0m \u001b[1;33m+\u001b[0m \u001b[0mb\u001b[0m \u001b[1;33m==\u001b[0m \u001b[1;36m11\u001b[0m\u001b[1;33m)\u001b[0m\u001b[1;33m\u001b[0m\u001b[0m\n",
      "\u001b[0m\u001b[1;32m      5 \u001b[1;33m\u001b[1;33m\u001b[0m\u001b[0m\n",
      "\u001b[0m\n",
      "ipdb> s\n",
      "> \u001b[1;32mc:\\users\\adity\\pythonfordataanalysis\\examples\\ipython_bug.py\u001b[0m(6)\u001b[0;36m<module>\u001b[1;34m()\u001b[0m\n",
      "\u001b[1;32m      4 \u001b[1;33m    \u001b[1;32massert\u001b[0m\u001b[1;33m(\u001b[0m\u001b[0ma\u001b[0m \u001b[1;33m+\u001b[0m \u001b[0mb\u001b[0m \u001b[1;33m==\u001b[0m \u001b[1;36m11\u001b[0m\u001b[1;33m)\u001b[0m\u001b[1;33m\u001b[0m\u001b[0m\n",
      "\u001b[0m\u001b[1;32m      5 \u001b[1;33m\u001b[1;33m\u001b[0m\u001b[0m\n",
      "\u001b[0m\u001b[1;32m----> 6 \u001b[1;33m\u001b[1;32mdef\u001b[0m \u001b[0mthrows_an_exception\u001b[0m\u001b[1;33m(\u001b[0m\u001b[1;33m)\u001b[0m\u001b[1;33m:\u001b[0m\u001b[1;33m\u001b[0m\u001b[0m\n",
      "\u001b[0m\u001b[1;32m      7 \u001b[1;33m    \u001b[0ma\u001b[0m \u001b[1;33m=\u001b[0m \u001b[1;36m5\u001b[0m\u001b[1;33m\u001b[0m\u001b[0m\n",
      "\u001b[0m\u001b[1;32m      8 \u001b[1;33m    \u001b[0mb\u001b[0m \u001b[1;33m=\u001b[0m \u001b[1;36m6\u001b[0m\u001b[1;33m\u001b[0m\u001b[0m\n",
      "\u001b[0m\n",
      "ipdb> b 12\n",
      "Breakpoint 2 at c:\\users\\adity\\pythonfordataanalysis\\examples\\ipython_bug.py:12\n",
      "ipdb> c\n",
      "> \u001b[1;32mc:\\users\\adity\\pythonfordataanalysis\\examples\\ipython_bug.py\u001b[0m(12)\u001b[0;36mcalling_things\u001b[1;34m()\u001b[0m\n",
      "\u001b[1;32m     10 \u001b[1;33m\u001b[1;33m\u001b[0m\u001b[0m\n",
      "\u001b[0m\u001b[1;32m     11 \u001b[1;33m\u001b[1;32mdef\u001b[0m \u001b[0mcalling_things\u001b[0m\u001b[1;33m(\u001b[0m\u001b[1;33m)\u001b[0m\u001b[1;33m:\u001b[0m\u001b[1;33m\u001b[0m\u001b[0m\n",
      "\u001b[0m\u001b[1;31m2\u001b[1;32m--> 12 \u001b[1;33m    \u001b[0mworks_fine\u001b[0m\u001b[1;33m(\u001b[0m\u001b[1;33m)\u001b[0m\u001b[1;33m\u001b[0m\u001b[0m\n",
      "\u001b[0m\u001b[1;32m     13 \u001b[1;33m    \u001b[0mthrows_an_exception\u001b[0m\u001b[1;33m(\u001b[0m\u001b[1;33m)\u001b[0m\u001b[1;33m\u001b[0m\u001b[0m\n",
      "\u001b[0m\u001b[1;32m     14 \u001b[1;33m\u001b[1;33m\u001b[0m\u001b[0m\n",
      "\u001b[0m\n",
      "ipdb> n\n",
      "> \u001b[1;32mc:\\users\\adity\\pythonfordataanalysis\\examples\\ipython_bug.py\u001b[0m(13)\u001b[0;36mcalling_things\u001b[1;34m()\u001b[0m\n",
      "\u001b[1;32m     11 \u001b[1;33m\u001b[1;32mdef\u001b[0m \u001b[0mcalling_things\u001b[0m\u001b[1;33m(\u001b[0m\u001b[1;33m)\u001b[0m\u001b[1;33m:\u001b[0m\u001b[1;33m\u001b[0m\u001b[0m\n",
      "\u001b[0m\u001b[1;31m2\u001b[1;32m    12 \u001b[1;33m    \u001b[0mworks_fine\u001b[0m\u001b[1;33m(\u001b[0m\u001b[1;33m)\u001b[0m\u001b[1;33m\u001b[0m\u001b[0m\n",
      "\u001b[0m\u001b[1;32m---> 13 \u001b[1;33m    \u001b[0mthrows_an_exception\u001b[0m\u001b[1;33m(\u001b[0m\u001b[1;33m)\u001b[0m\u001b[1;33m\u001b[0m\u001b[0m\n",
      "\u001b[0m\u001b[1;32m     14 \u001b[1;33m\u001b[1;33m\u001b[0m\u001b[0m\n",
      "\u001b[0m\u001b[1;32m     15 \u001b[1;33m\u001b[0mcalling_things\u001b[0m\u001b[1;33m(\u001b[0m\u001b[1;33m)\u001b[0m\u001b[1;33m\u001b[0m\u001b[0m\n",
      "\u001b[0m\n",
      "ipdb> s\n",
      "--Call--\n",
      "> \u001b[1;32mc:\\users\\adity\\pythonfordataanalysis\\examples\\ipython_bug.py\u001b[0m(6)\u001b[0;36mthrows_an_exception\u001b[1;34m()\u001b[0m\n",
      "\u001b[1;32m      4 \u001b[1;33m    \u001b[1;32massert\u001b[0m\u001b[1;33m(\u001b[0m\u001b[0ma\u001b[0m \u001b[1;33m+\u001b[0m \u001b[0mb\u001b[0m \u001b[1;33m==\u001b[0m \u001b[1;36m11\u001b[0m\u001b[1;33m)\u001b[0m\u001b[1;33m\u001b[0m\u001b[0m\n",
      "\u001b[0m\u001b[1;32m      5 \u001b[1;33m\u001b[1;33m\u001b[0m\u001b[0m\n",
      "\u001b[0m\u001b[1;32m----> 6 \u001b[1;33m\u001b[1;32mdef\u001b[0m \u001b[0mthrows_an_exception\u001b[0m\u001b[1;33m(\u001b[0m\u001b[1;33m)\u001b[0m\u001b[1;33m:\u001b[0m\u001b[1;33m\u001b[0m\u001b[0m\n",
      "\u001b[0m\u001b[1;32m      7 \u001b[1;33m    \u001b[0ma\u001b[0m \u001b[1;33m=\u001b[0m \u001b[1;36m5\u001b[0m\u001b[1;33m\u001b[0m\u001b[0m\n",
      "\u001b[0m\u001b[1;32m      8 \u001b[1;33m    \u001b[0mb\u001b[0m \u001b[1;33m=\u001b[0m \u001b[1;36m6\u001b[0m\u001b[1;33m\u001b[0m\u001b[0m\n",
      "\u001b[0m\n",
      "ipdb> n\n",
      "> \u001b[1;32mc:\\users\\adity\\pythonfordataanalysis\\examples\\ipython_bug.py\u001b[0m(7)\u001b[0;36mthrows_an_exception\u001b[1;34m()\u001b[0m\n",
      "\u001b[1;32m      5 \u001b[1;33m\u001b[1;33m\u001b[0m\u001b[0m\n",
      "\u001b[0m\u001b[1;32m      6 \u001b[1;33m\u001b[1;32mdef\u001b[0m \u001b[0mthrows_an_exception\u001b[0m\u001b[1;33m(\u001b[0m\u001b[1;33m)\u001b[0m\u001b[1;33m:\u001b[0m\u001b[1;33m\u001b[0m\u001b[0m\n",
      "\u001b[0m\u001b[1;32m----> 7 \u001b[1;33m    \u001b[0ma\u001b[0m \u001b[1;33m=\u001b[0m \u001b[1;36m5\u001b[0m\u001b[1;33m\u001b[0m\u001b[0m\n",
      "\u001b[0m\u001b[1;32m      8 \u001b[1;33m    \u001b[0mb\u001b[0m \u001b[1;33m=\u001b[0m \u001b[1;36m6\u001b[0m\u001b[1;33m\u001b[0m\u001b[0m\n",
      "\u001b[0m\u001b[1;32m      9 \u001b[1;33m    \u001b[1;32massert\u001b[0m\u001b[1;33m(\u001b[0m\u001b[0ma\u001b[0m \u001b[1;33m+\u001b[0m \u001b[0mb\u001b[0m \u001b[1;33m==\u001b[0m \u001b[1;36m10\u001b[0m\u001b[1;33m)\u001b[0m\u001b[1;33m\u001b[0m\u001b[0m\n",
      "\u001b[0m\n",
      "ipdb> n\n",
      "> \u001b[1;32mc:\\users\\adity\\pythonfordataanalysis\\examples\\ipython_bug.py\u001b[0m(8)\u001b[0;36mthrows_an_exception\u001b[1;34m()\u001b[0m\n",
      "\u001b[1;32m      6 \u001b[1;33m\u001b[1;32mdef\u001b[0m \u001b[0mthrows_an_exception\u001b[0m\u001b[1;33m(\u001b[0m\u001b[1;33m)\u001b[0m\u001b[1;33m:\u001b[0m\u001b[1;33m\u001b[0m\u001b[0m\n",
      "\u001b[0m\u001b[1;32m      7 \u001b[1;33m    \u001b[0ma\u001b[0m \u001b[1;33m=\u001b[0m \u001b[1;36m5\u001b[0m\u001b[1;33m\u001b[0m\u001b[0m\n",
      "\u001b[0m\u001b[1;32m----> 8 \u001b[1;33m    \u001b[0mb\u001b[0m \u001b[1;33m=\u001b[0m \u001b[1;36m6\u001b[0m\u001b[1;33m\u001b[0m\u001b[0m\n",
      "\u001b[0m\u001b[1;32m      9 \u001b[1;33m    \u001b[1;32massert\u001b[0m\u001b[1;33m(\u001b[0m\u001b[0ma\u001b[0m \u001b[1;33m+\u001b[0m \u001b[0mb\u001b[0m \u001b[1;33m==\u001b[0m \u001b[1;36m10\u001b[0m\u001b[1;33m)\u001b[0m\u001b[1;33m\u001b[0m\u001b[0m\n",
      "\u001b[0m\u001b[1;32m     10 \u001b[1;33m\u001b[1;33m\u001b[0m\u001b[0m\n",
      "\u001b[0m\n",
      "ipdb> n\n",
      "> \u001b[1;32mc:\\users\\adity\\pythonfordataanalysis\\examples\\ipython_bug.py\u001b[0m(9)\u001b[0;36mthrows_an_exception\u001b[1;34m()\u001b[0m\n",
      "\u001b[1;32m      7 \u001b[1;33m    \u001b[0ma\u001b[0m \u001b[1;33m=\u001b[0m \u001b[1;36m5\u001b[0m\u001b[1;33m\u001b[0m\u001b[0m\n",
      "\u001b[0m\u001b[1;32m      8 \u001b[1;33m    \u001b[0mb\u001b[0m \u001b[1;33m=\u001b[0m \u001b[1;36m6\u001b[0m\u001b[1;33m\u001b[0m\u001b[0m\n",
      "\u001b[0m\u001b[1;32m----> 9 \u001b[1;33m    \u001b[1;32massert\u001b[0m\u001b[1;33m(\u001b[0m\u001b[0ma\u001b[0m \u001b[1;33m+\u001b[0m \u001b[0mb\u001b[0m \u001b[1;33m==\u001b[0m \u001b[1;36m10\u001b[0m\u001b[1;33m)\u001b[0m\u001b[1;33m\u001b[0m\u001b[0m\n",
      "\u001b[0m\u001b[1;32m     10 \u001b[1;33m\u001b[1;33m\u001b[0m\u001b[0m\n",
      "\u001b[0m\u001b[1;32m     11 \u001b[1;33m\u001b[1;32mdef\u001b[0m \u001b[0mcalling_things\u001b[0m\u001b[1;33m(\u001b[0m\u001b[1;33m)\u001b[0m\u001b[1;33m:\u001b[0m\u001b[1;33m\u001b[0m\u001b[0m\n",
      "\u001b[0m\n",
      "ipdb> !a\n",
      "5\n",
      "ipdb> !b\n",
      "6\n",
      "ipdb> exit()\n"
     ]
    }
   ],
   "source": [
    "run -d examples/ipython_bug.py"
   ]
  },
  {
   "cell_type": "markdown",
   "metadata": {},
   "source": [
    "### Other Ways to make use of Debugger\n",
    "#### There are a couple of ways to invoke 'debugger'.\n",
    "#### First is by using special 'set_trace' function (named after pdb.set_trace, which is a \"poor man's breakpoint\".\n",
    "#### The following 2 recipes are almost always good for general use."
   ]
  },
  {
   "cell_type": "code",
   "execution_count": 42,
   "metadata": {},
   "outputs": [],
   "source": [
    "from IPython.core.debugger import Pdb\n",
    "\n",
    "def set_trace():\n",
    "    Pdb(color_scheme='Linux').set_trace(sys._getframe().f_back)\n",
    "    \n",
    "def debug(f, *args, **kwargs):\n",
    "    pdb = Pdb(color_scheme='Linux')\n",
    "    return pdb.runcall(f, *args, **kwargs)"
   ]
  },
  {
   "cell_type": "markdown",
   "metadata": {},
   "source": [
    "#### The 'set_trace' can be used in any part of the code you want to temporarily stop to closely examine (before exception occurs).\n",
    "#### Pressing 'c' (continue) will cause the code to resume normally.\n",
    "#### The 'dubug' function enables you to invoke interactive debugger easily on arbitrary function call. To debug a function f , paas it as first argument to debug, followed by positional and keyword arguments required by f.\n",
    "#### The 'debugger' can be used with '%run'. By running a script with '%run -d', you will be dropped directly intp debugger, ready to set breakpoints and start the script.\n",
    "#### Adding '-b' with line number start the debugger with a breakpoint set already."
   ]
  },
  {
   "cell_type": "code",
   "execution_count": 47,
   "metadata": {},
   "outputs": [
    {
     "name": "stderr",
     "output_type": "stream",
     "text": [
      "C:\\Users\\adity\\PythonForDataAnalysis\\examples\\ipython_set_trace.py:10: DeprecationWarning: The `color_scheme` argument is deprecated since version 5.1\n",
      "  \n"
     ]
    },
    {
     "name": "stdout",
     "output_type": "stream",
     "text": [
      "> \u001b[1;32mc:\\users\\adity\\pythonfordataanalysis\\examples\\ipython_set_trace.py\u001b[0m(19)\u001b[0;36mcalling_things\u001b[1;34m()\u001b[0m\n",
      "\u001b[1;32m     17 \u001b[1;33m\u001b[1;32mdef\u001b[0m \u001b[0mcalling_things\u001b[0m\u001b[1;33m(\u001b[0m\u001b[1;33m)\u001b[0m\u001b[1;33m:\u001b[0m\u001b[1;33m\u001b[0m\u001b[0m\n",
      "\u001b[0m\u001b[1;32m     18 \u001b[1;33m    \u001b[0mset_trace\u001b[0m\u001b[1;33m(\u001b[0m\u001b[1;33m)\u001b[0m\u001b[1;33m\u001b[0m\u001b[0m\n",
      "\u001b[0m\u001b[1;32m---> 19 \u001b[1;33m    \u001b[0mthrows_an_exception\u001b[0m\u001b[1;33m(\u001b[0m\u001b[1;33m)\u001b[0m\u001b[1;33m\u001b[0m\u001b[0m\n",
      "\u001b[0m\u001b[1;32m     20 \u001b[1;33m\u001b[1;33m\u001b[0m\u001b[0m\n",
      "\u001b[0m\u001b[1;32m     21 \u001b[1;33m\u001b[0mcalling_things\u001b[0m\u001b[1;33m(\u001b[0m\u001b[1;33m)\u001b[0m\u001b[1;33m\u001b[0m\u001b[0m\n",
      "\u001b[0m\n",
      "ipdb> c\n"
     ]
    },
    {
     "ename": "AssertionError",
     "evalue": "",
     "output_type": "error",
     "traceback": [
      "\u001b[1;31m---------------------------------------------------------------------------\u001b[0m",
      "\u001b[1;31mAssertionError\u001b[0m                            Traceback (most recent call last)",
      "\u001b[1;32m~\\PythonForDataAnalysis\\examples\\ipython_set_trace.py\u001b[0m in \u001b[0;36m<module>\u001b[1;34m()\u001b[0m\n\u001b[0;32m     19\u001b[0m     \u001b[0mthrows_an_exception\u001b[0m\u001b[1;33m(\u001b[0m\u001b[1;33m)\u001b[0m\u001b[1;33m\u001b[0m\u001b[0m\n\u001b[0;32m     20\u001b[0m \u001b[1;33m\u001b[0m\u001b[0m\n\u001b[1;32m---> 21\u001b[1;33m \u001b[0mcalling_things\u001b[0m\u001b[1;33m(\u001b[0m\u001b[1;33m)\u001b[0m\u001b[1;33m\u001b[0m\u001b[0m\n\u001b[0m",
      "\u001b[1;32m~\\PythonForDataAnalysis\\examples\\ipython_set_trace.py\u001b[0m in \u001b[0;36mcalling_things\u001b[1;34m()\u001b[0m\n\u001b[0;32m     17\u001b[0m \u001b[1;32mdef\u001b[0m \u001b[0mcalling_things\u001b[0m\u001b[1;33m(\u001b[0m\u001b[1;33m)\u001b[0m\u001b[1;33m:\u001b[0m\u001b[1;33m\u001b[0m\u001b[0m\n\u001b[0;32m     18\u001b[0m     \u001b[0mset_trace\u001b[0m\u001b[1;33m(\u001b[0m\u001b[1;33m)\u001b[0m\u001b[1;33m\u001b[0m\u001b[0m\n\u001b[1;32m---> 19\u001b[1;33m     \u001b[0mthrows_an_exception\u001b[0m\u001b[1;33m(\u001b[0m\u001b[1;33m)\u001b[0m\u001b[1;33m\u001b[0m\u001b[0m\n\u001b[0m\u001b[0;32m     20\u001b[0m \u001b[1;33m\u001b[0m\u001b[0m\n\u001b[0;32m     21\u001b[0m \u001b[0mcalling_things\u001b[0m\u001b[1;33m(\u001b[0m\u001b[1;33m)\u001b[0m\u001b[1;33m\u001b[0m\u001b[0m\n",
      "\u001b[1;32m~\\PythonForDataAnalysis\\examples\\ipython_set_trace.py\u001b[0m in \u001b[0;36mthrows_an_exception\u001b[1;34m()\u001b[0m\n\u001b[0;32m     13\u001b[0m     \u001b[0ma\u001b[0m \u001b[1;33m=\u001b[0m \u001b[1;36m5\u001b[0m\u001b[1;33m\u001b[0m\u001b[0m\n\u001b[0;32m     14\u001b[0m     \u001b[0mb\u001b[0m \u001b[1;33m=\u001b[0m \u001b[1;36m6\u001b[0m\u001b[1;33m\u001b[0m\u001b[0m\n\u001b[1;32m---> 15\u001b[1;33m     \u001b[1;32massert\u001b[0m\u001b[1;33m(\u001b[0m\u001b[0ma\u001b[0m \u001b[1;33m+\u001b[0m \u001b[0mb\u001b[0m \u001b[1;33m==\u001b[0m \u001b[1;36m10\u001b[0m\u001b[1;33m)\u001b[0m\u001b[1;33m\u001b[0m\u001b[0m\n\u001b[0m\u001b[0;32m     16\u001b[0m \u001b[1;33m\u001b[0m\u001b[0m\n\u001b[0;32m     17\u001b[0m \u001b[1;32mdef\u001b[0m \u001b[0mcalling_things\u001b[0m\u001b[1;33m(\u001b[0m\u001b[1;33m)\u001b[0m\u001b[1;33m:\u001b[0m\u001b[1;33m\u001b[0m\u001b[0m\n",
      "\u001b[1;31mAssertionError\u001b[0m: "
     ]
    }
   ],
   "source": [
    "# ipython_set_trace.py already has set_trace() function with dependent modules\n",
    "run examples/ipython_set_trace.py"
   ]
  },
  {
   "cell_type": "code",
   "execution_count": 48,
   "metadata": {},
   "outputs": [],
   "source": [
    "def f(x, y, z=1):\n",
    "    tmp = x + y\n",
    "    return tmp / z"
   ]
  },
  {
   "cell_type": "code",
   "execution_count": 49,
   "metadata": {},
   "outputs": [
    {
     "name": "stderr",
     "output_type": "stream",
     "text": [
      "C:\\Users\\adity\\Anaconda3\\lib\\site-packages\\ipykernel_launcher.py:7: DeprecationWarning: The `color_scheme` argument is deprecated since version 5.1\n",
      "  import sys\n"
     ]
    },
    {
     "name": "stdout",
     "output_type": "stream",
     "text": [
      "> \u001b[1;32m<ipython-input-48-359ec13d6433>\u001b[0m(2)\u001b[0;36mf\u001b[1;34m()\u001b[0m\n",
      "\u001b[1;32m      1 \u001b[1;33m\u001b[1;32mdef\u001b[0m \u001b[0mf\u001b[0m\u001b[1;33m(\u001b[0m\u001b[0mx\u001b[0m\u001b[1;33m,\u001b[0m \u001b[0my\u001b[0m\u001b[1;33m,\u001b[0m \u001b[0mz\u001b[0m\u001b[1;33m=\u001b[0m\u001b[1;36m1\u001b[0m\u001b[1;33m)\u001b[0m\u001b[1;33m:\u001b[0m\u001b[1;33m\u001b[0m\u001b[0m\n",
      "\u001b[0m\u001b[1;32m----> 2 \u001b[1;33m    \u001b[0mtmp\u001b[0m \u001b[1;33m=\u001b[0m \u001b[0mx\u001b[0m \u001b[1;33m+\u001b[0m \u001b[0my\u001b[0m\u001b[1;33m\u001b[0m\u001b[0m\n",
      "\u001b[0m\u001b[1;32m      3 \u001b[1;33m    \u001b[1;32mreturn\u001b[0m \u001b[0mtmp\u001b[0m \u001b[1;33m/\u001b[0m \u001b[0mz\u001b[0m\u001b[1;33m\u001b[0m\u001b[0m\n",
      "\u001b[0m\n",
      "ipdb> c\n"
     ]
    },
    {
     "data": {
      "text/plain": [
       "1.0"
      ]
     },
     "execution_count": 49,
     "metadata": {},
     "output_type": "execute_result"
    }
   ],
   "source": [
    "# Running function f() with 'debug'\n",
    "debug(f, 1, 2, z=3)"
   ]
  },
  {
   "cell_type": "code",
   "execution_count": 50,
   "metadata": {},
   "outputs": [
    {
     "name": "stdout",
     "output_type": "stream",
     "text": [
      "Breakpoint 1 at c:\\users\\adity\\pythonfordataanalysis\\examples\\ipython_bug.py:1\n",
      "NOTE: Enter 'c' at the ipdb>  prompt to continue execution.\n",
      "> \u001b[1;32mc:\\users\\adity\\pythonfordataanalysis\\examples\\ipython_bug.py\u001b[0m(1)\u001b[0;36m<module>\u001b[1;34m()\u001b[0m\n",
      "\u001b[1;31m1\u001b[1;32m---> 1 \u001b[1;33m\u001b[1;32mdef\u001b[0m \u001b[0mworks_fine\u001b[0m\u001b[1;33m(\u001b[0m\u001b[1;33m)\u001b[0m\u001b[1;33m:\u001b[0m\u001b[1;33m\u001b[0m\u001b[0m\n",
      "\u001b[0m\u001b[1;32m      2 \u001b[1;33m    \u001b[0ma\u001b[0m \u001b[1;33m=\u001b[0m \u001b[1;36m5\u001b[0m\u001b[1;33m\u001b[0m\u001b[0m\n",
      "\u001b[0m\u001b[1;32m      3 \u001b[1;33m    \u001b[0mb\u001b[0m \u001b[1;33m=\u001b[0m \u001b[1;36m6\u001b[0m\u001b[1;33m\u001b[0m\u001b[0m\n",
      "\u001b[0m\u001b[1;32m      4 \u001b[1;33m    \u001b[1;32massert\u001b[0m\u001b[1;33m(\u001b[0m\u001b[0ma\u001b[0m \u001b[1;33m+\u001b[0m \u001b[0mb\u001b[0m \u001b[1;33m==\u001b[0m \u001b[1;36m11\u001b[0m\u001b[1;33m)\u001b[0m\u001b[1;33m\u001b[0m\u001b[0m\n",
      "\u001b[0m\u001b[1;32m      5 \u001b[1;33m\u001b[1;33m\u001b[0m\u001b[0m\n",
      "\u001b[0m\n",
      "ipdb> c\n",
      "\u001b[1;31m---------------------------------------------------------------------------\u001b[0m\n",
      "\u001b[1;31mAssertionError\u001b[0m                            Traceback (most recent call last)\n",
      "\u001b[1;32m~\\Anaconda3\\lib\\site-packages\\IPython\\core\\interactiveshell.py\u001b[0m in \u001b[0;36msafe_execfile\u001b[1;34m(self, fname, exit_ignore, raise_exceptions, shell_futures, *where)\u001b[0m\n",
      "\u001b[0;32m   2525\u001b[0m                 py3compat.execfile(\n",
      "\u001b[0;32m   2526\u001b[0m                     \u001b[0mfname\u001b[0m\u001b[1;33m,\u001b[0m \u001b[0mglob\u001b[0m\u001b[1;33m,\u001b[0m \u001b[0mloc\u001b[0m\u001b[1;33m,\u001b[0m\u001b[1;33m\u001b[0m\u001b[0m\n",
      "\u001b[1;32m-> 2527\u001b[1;33m                     self.compile if shell_futures else None)\n",
      "\u001b[0m\u001b[0;32m   2528\u001b[0m             \u001b[1;32mexcept\u001b[0m \u001b[0mSystemExit\u001b[0m \u001b[1;32mas\u001b[0m \u001b[0mstatus\u001b[0m\u001b[1;33m:\u001b[0m\u001b[1;33m\u001b[0m\u001b[0m\n",
      "\u001b[0;32m   2529\u001b[0m                 \u001b[1;31m# If the call was made with 0 or None exit status (sys.exit(0)\u001b[0m\u001b[1;33m\u001b[0m\u001b[1;33m\u001b[0m\u001b[0m\n",
      "\n",
      "\u001b[1;32m~\\Anaconda3\\lib\\site-packages\\IPython\\utils\\py3compat.py\u001b[0m in \u001b[0;36mexecfile\u001b[1;34m(fname, glob, loc, compiler)\u001b[0m\n",
      "\u001b[0;32m    186\u001b[0m     \u001b[1;32mwith\u001b[0m \u001b[0mopen\u001b[0m\u001b[1;33m(\u001b[0m\u001b[0mfname\u001b[0m\u001b[1;33m,\u001b[0m \u001b[1;34m'rb'\u001b[0m\u001b[1;33m)\u001b[0m \u001b[1;32mas\u001b[0m \u001b[0mf\u001b[0m\u001b[1;33m:\u001b[0m\u001b[1;33m\u001b[0m\u001b[0m\n",
      "\u001b[0;32m    187\u001b[0m         \u001b[0mcompiler\u001b[0m \u001b[1;33m=\u001b[0m \u001b[0mcompiler\u001b[0m \u001b[1;32mor\u001b[0m \u001b[0mcompile\u001b[0m\u001b[1;33m\u001b[0m\u001b[0m\n",
      "\u001b[1;32m--> 188\u001b[1;33m         \u001b[0mexec\u001b[0m\u001b[1;33m(\u001b[0m\u001b[0mcompiler\u001b[0m\u001b[1;33m(\u001b[0m\u001b[0mf\u001b[0m\u001b[1;33m.\u001b[0m\u001b[0mread\u001b[0m\u001b[1;33m(\u001b[0m\u001b[1;33m)\u001b[0m\u001b[1;33m,\u001b[0m \u001b[0mfname\u001b[0m\u001b[1;33m,\u001b[0m \u001b[1;34m'exec'\u001b[0m\u001b[1;33m)\u001b[0m\u001b[1;33m,\u001b[0m \u001b[0mglob\u001b[0m\u001b[1;33m,\u001b[0m \u001b[0mloc\u001b[0m\u001b[1;33m)\u001b[0m\u001b[1;33m\u001b[0m\u001b[0m\n",
      "\u001b[0m\u001b[0;32m    189\u001b[0m \u001b[1;33m\u001b[0m\u001b[0m\n",
      "\u001b[0;32m    190\u001b[0m \u001b[1;31m# Refactor print statements in doctests.\u001b[0m\u001b[1;33m\u001b[0m\u001b[1;33m\u001b[0m\u001b[0m\n",
      "\n",
      "\u001b[1;32m~\\PythonForDataAnalysis\\examples\\ipython_bug.py\u001b[0m in \u001b[0;36m<module>\u001b[1;34m()\u001b[0m\n",
      "\u001b[0;32m     13\u001b[0m     \u001b[0mthrows_an_exception\u001b[0m\u001b[1;33m(\u001b[0m\u001b[1;33m)\u001b[0m\u001b[1;33m\u001b[0m\u001b[0m\n",
      "\u001b[0;32m     14\u001b[0m \u001b[1;33m\u001b[0m\u001b[0m\n",
      "\u001b[1;32m---> 15\u001b[1;33m \u001b[0mcalling_things\u001b[0m\u001b[1;33m(\u001b[0m\u001b[1;33m)\u001b[0m\u001b[1;33m\u001b[0m\u001b[0m\n",
      "\u001b[0m\n",
      "\u001b[1;32m~\\PythonForDataAnalysis\\examples\\ipython_bug.py\u001b[0m in \u001b[0;36mcalling_things\u001b[1;34m()\u001b[0m\n",
      "\u001b[0;32m     11\u001b[0m \u001b[1;32mdef\u001b[0m \u001b[0mcalling_things\u001b[0m\u001b[1;33m(\u001b[0m\u001b[1;33m)\u001b[0m\u001b[1;33m:\u001b[0m\u001b[1;33m\u001b[0m\u001b[0m\n",
      "\u001b[0;32m     12\u001b[0m     \u001b[0mworks_fine\u001b[0m\u001b[1;33m(\u001b[0m\u001b[1;33m)\u001b[0m\u001b[1;33m\u001b[0m\u001b[0m\n",
      "\u001b[1;32m---> 13\u001b[1;33m     \u001b[0mthrows_an_exception\u001b[0m\u001b[1;33m(\u001b[0m\u001b[1;33m)\u001b[0m\u001b[1;33m\u001b[0m\u001b[0m\n",
      "\u001b[0m\u001b[0;32m     14\u001b[0m \u001b[1;33m\u001b[0m\u001b[0m\n",
      "\u001b[0;32m     15\u001b[0m \u001b[0mcalling_things\u001b[0m\u001b[1;33m(\u001b[0m\u001b[1;33m)\u001b[0m\u001b[1;33m\u001b[0m\u001b[0m\n",
      "\n",
      "\u001b[1;32m~\\PythonForDataAnalysis\\examples\\ipython_bug.py\u001b[0m in \u001b[0;36mthrows_an_exception\u001b[1;34m()\u001b[0m\n",
      "\u001b[0;32m      7\u001b[0m     \u001b[0ma\u001b[0m \u001b[1;33m=\u001b[0m \u001b[1;36m5\u001b[0m\u001b[1;33m\u001b[0m\u001b[0m\n",
      "\u001b[0;32m      8\u001b[0m     \u001b[0mb\u001b[0m \u001b[1;33m=\u001b[0m \u001b[1;36m6\u001b[0m\u001b[1;33m\u001b[0m\u001b[0m\n",
      "\u001b[1;32m----> 9\u001b[1;33m     \u001b[1;32massert\u001b[0m\u001b[1;33m(\u001b[0m\u001b[0ma\u001b[0m \u001b[1;33m+\u001b[0m \u001b[0mb\u001b[0m \u001b[1;33m==\u001b[0m \u001b[1;36m10\u001b[0m\u001b[1;33m)\u001b[0m\u001b[1;33m\u001b[0m\u001b[0m\n",
      "\u001b[0m\u001b[0;32m     10\u001b[0m \u001b[1;33m\u001b[0m\u001b[0m\n",
      "\u001b[0;32m     11\u001b[0m \u001b[1;32mdef\u001b[0m \u001b[0mcalling_things\u001b[0m\u001b[1;33m(\u001b[0m\u001b[1;33m)\u001b[0m\u001b[1;33m:\u001b[0m\u001b[1;33m\u001b[0m\u001b[0m\n",
      "\n",
      "\u001b[1;31mAssertionError\u001b[0m: \n"
     ]
    }
   ],
   "source": [
    "# Running code in debugger mode\n",
    "%run -d examples/ipython_bug.py"
   ]
  },
  {
   "cell_type": "code",
   "execution_count": 51,
   "metadata": {},
   "outputs": [
    {
     "name": "stdout",
     "output_type": "stream",
     "text": [
      "Breakpoint 1 at c:\\users\\adity\\pythonfordataanalysis\\examples\\ipython_bug.py:2\n",
      "NOTE: Enter 'c' at the ipdb>  prompt to continue execution.\n",
      "> \u001b[1;32mc:\\users\\adity\\pythonfordataanalysis\\examples\\ipython_bug.py\u001b[0m(1)\u001b[0;36m<module>\u001b[1;34m()\u001b[0m\n",
      "\u001b[1;32m----> 1 \u001b[1;33m\u001b[1;32mdef\u001b[0m \u001b[0mworks_fine\u001b[0m\u001b[1;33m(\u001b[0m\u001b[1;33m)\u001b[0m\u001b[1;33m:\u001b[0m\u001b[1;33m\u001b[0m\u001b[0m\n",
      "\u001b[0m\u001b[1;31m1\u001b[1;32m     2 \u001b[1;33m    \u001b[0ma\u001b[0m \u001b[1;33m=\u001b[0m \u001b[1;36m5\u001b[0m\u001b[1;33m\u001b[0m\u001b[0m\n",
      "\u001b[0m\u001b[1;32m      3 \u001b[1;33m    \u001b[0mb\u001b[0m \u001b[1;33m=\u001b[0m \u001b[1;36m6\u001b[0m\u001b[1;33m\u001b[0m\u001b[0m\n",
      "\u001b[0m\u001b[1;32m      4 \u001b[1;33m    \u001b[1;32massert\u001b[0m\u001b[1;33m(\u001b[0m\u001b[0ma\u001b[0m \u001b[1;33m+\u001b[0m \u001b[0mb\u001b[0m \u001b[1;33m==\u001b[0m \u001b[1;36m11\u001b[0m\u001b[1;33m)\u001b[0m\u001b[1;33m\u001b[0m\u001b[0m\n",
      "\u001b[0m\u001b[1;32m      5 \u001b[1;33m\u001b[1;33m\u001b[0m\u001b[0m\n",
      "\u001b[0m\n",
      "ipdb> c\n",
      "> \u001b[1;32mc:\\users\\adity\\pythonfordataanalysis\\examples\\ipython_bug.py\u001b[0m(2)\u001b[0;36mworks_fine\u001b[1;34m()\u001b[0m\n",
      "\u001b[1;32m      1 \u001b[1;33m\u001b[1;32mdef\u001b[0m \u001b[0mworks_fine\u001b[0m\u001b[1;33m(\u001b[0m\u001b[1;33m)\u001b[0m\u001b[1;33m:\u001b[0m\u001b[1;33m\u001b[0m\u001b[0m\n",
      "\u001b[0m\u001b[1;31m1\u001b[1;32m---> 2 \u001b[1;33m    \u001b[0ma\u001b[0m \u001b[1;33m=\u001b[0m \u001b[1;36m5\u001b[0m\u001b[1;33m\u001b[0m\u001b[0m\n",
      "\u001b[0m\u001b[1;32m      3 \u001b[1;33m    \u001b[0mb\u001b[0m \u001b[1;33m=\u001b[0m \u001b[1;36m6\u001b[0m\u001b[1;33m\u001b[0m\u001b[0m\n",
      "\u001b[0m\u001b[1;32m      4 \u001b[1;33m    \u001b[1;32massert\u001b[0m\u001b[1;33m(\u001b[0m\u001b[0ma\u001b[0m \u001b[1;33m+\u001b[0m \u001b[0mb\u001b[0m \u001b[1;33m==\u001b[0m \u001b[1;36m11\u001b[0m\u001b[1;33m)\u001b[0m\u001b[1;33m\u001b[0m\u001b[0m\n",
      "\u001b[0m\u001b[1;32m      5 \u001b[1;33m\u001b[1;33m\u001b[0m\u001b[0m\n",
      "\u001b[0m\n",
      "ipdb> c\n",
      "\u001b[1;31m---------------------------------------------------------------------------\u001b[0m\n",
      "\u001b[1;31mAssertionError\u001b[0m                            Traceback (most recent call last)\n",
      "\u001b[1;32m~\\Anaconda3\\lib\\site-packages\\IPython\\core\\interactiveshell.py\u001b[0m in \u001b[0;36msafe_execfile\u001b[1;34m(self, fname, exit_ignore, raise_exceptions, shell_futures, *where)\u001b[0m\n",
      "\u001b[0;32m   2525\u001b[0m                 py3compat.execfile(\n",
      "\u001b[0;32m   2526\u001b[0m                     \u001b[0mfname\u001b[0m\u001b[1;33m,\u001b[0m \u001b[0mglob\u001b[0m\u001b[1;33m,\u001b[0m \u001b[0mloc\u001b[0m\u001b[1;33m,\u001b[0m\u001b[1;33m\u001b[0m\u001b[0m\n",
      "\u001b[1;32m-> 2527\u001b[1;33m                     self.compile if shell_futures else None)\n",
      "\u001b[0m\u001b[0;32m   2528\u001b[0m             \u001b[1;32mexcept\u001b[0m \u001b[0mSystemExit\u001b[0m \u001b[1;32mas\u001b[0m \u001b[0mstatus\u001b[0m\u001b[1;33m:\u001b[0m\u001b[1;33m\u001b[0m\u001b[0m\n",
      "\u001b[0;32m   2529\u001b[0m                 \u001b[1;31m# If the call was made with 0 or None exit status (sys.exit(0)\u001b[0m\u001b[1;33m\u001b[0m\u001b[1;33m\u001b[0m\u001b[0m\n",
      "\n",
      "\u001b[1;32m~\\Anaconda3\\lib\\site-packages\\IPython\\utils\\py3compat.py\u001b[0m in \u001b[0;36mexecfile\u001b[1;34m(fname, glob, loc, compiler)\u001b[0m\n",
      "\u001b[0;32m    186\u001b[0m     \u001b[1;32mwith\u001b[0m \u001b[0mopen\u001b[0m\u001b[1;33m(\u001b[0m\u001b[0mfname\u001b[0m\u001b[1;33m,\u001b[0m \u001b[1;34m'rb'\u001b[0m\u001b[1;33m)\u001b[0m \u001b[1;32mas\u001b[0m \u001b[0mf\u001b[0m\u001b[1;33m:\u001b[0m\u001b[1;33m\u001b[0m\u001b[0m\n",
      "\u001b[0;32m    187\u001b[0m         \u001b[0mcompiler\u001b[0m \u001b[1;33m=\u001b[0m \u001b[0mcompiler\u001b[0m \u001b[1;32mor\u001b[0m \u001b[0mcompile\u001b[0m\u001b[1;33m\u001b[0m\u001b[0m\n",
      "\u001b[1;32m--> 188\u001b[1;33m         \u001b[0mexec\u001b[0m\u001b[1;33m(\u001b[0m\u001b[0mcompiler\u001b[0m\u001b[1;33m(\u001b[0m\u001b[0mf\u001b[0m\u001b[1;33m.\u001b[0m\u001b[0mread\u001b[0m\u001b[1;33m(\u001b[0m\u001b[1;33m)\u001b[0m\u001b[1;33m,\u001b[0m \u001b[0mfname\u001b[0m\u001b[1;33m,\u001b[0m \u001b[1;34m'exec'\u001b[0m\u001b[1;33m)\u001b[0m\u001b[1;33m,\u001b[0m \u001b[0mglob\u001b[0m\u001b[1;33m,\u001b[0m \u001b[0mloc\u001b[0m\u001b[1;33m)\u001b[0m\u001b[1;33m\u001b[0m\u001b[0m\n",
      "\u001b[0m\u001b[0;32m    189\u001b[0m \u001b[1;33m\u001b[0m\u001b[0m\n",
      "\u001b[0;32m    190\u001b[0m \u001b[1;31m# Refactor print statements in doctests.\u001b[0m\u001b[1;33m\u001b[0m\u001b[1;33m\u001b[0m\u001b[0m\n",
      "\n",
      "\u001b[1;32m~\\PythonForDataAnalysis\\examples\\ipython_bug.py\u001b[0m in \u001b[0;36m<module>\u001b[1;34m()\u001b[0m\n",
      "\u001b[0;32m     13\u001b[0m     \u001b[0mthrows_an_exception\u001b[0m\u001b[1;33m(\u001b[0m\u001b[1;33m)\u001b[0m\u001b[1;33m\u001b[0m\u001b[0m\n",
      "\u001b[0;32m     14\u001b[0m \u001b[1;33m\u001b[0m\u001b[0m\n",
      "\u001b[1;32m---> 15\u001b[1;33m \u001b[0mcalling_things\u001b[0m\u001b[1;33m(\u001b[0m\u001b[1;33m)\u001b[0m\u001b[1;33m\u001b[0m\u001b[0m\n",
      "\u001b[0m\n",
      "\u001b[1;32m~\\PythonForDataAnalysis\\examples\\ipython_bug.py\u001b[0m in \u001b[0;36mcalling_things\u001b[1;34m()\u001b[0m\n",
      "\u001b[0;32m     11\u001b[0m \u001b[1;32mdef\u001b[0m \u001b[0mcalling_things\u001b[0m\u001b[1;33m(\u001b[0m\u001b[1;33m)\u001b[0m\u001b[1;33m:\u001b[0m\u001b[1;33m\u001b[0m\u001b[0m\n",
      "\u001b[0;32m     12\u001b[0m     \u001b[0mworks_fine\u001b[0m\u001b[1;33m(\u001b[0m\u001b[1;33m)\u001b[0m\u001b[1;33m\u001b[0m\u001b[0m\n",
      "\u001b[1;32m---> 13\u001b[1;33m     \u001b[0mthrows_an_exception\u001b[0m\u001b[1;33m(\u001b[0m\u001b[1;33m)\u001b[0m\u001b[1;33m\u001b[0m\u001b[0m\n",
      "\u001b[0m\u001b[0;32m     14\u001b[0m \u001b[1;33m\u001b[0m\u001b[0m\n",
      "\u001b[0;32m     15\u001b[0m \u001b[0mcalling_things\u001b[0m\u001b[1;33m(\u001b[0m\u001b[1;33m)\u001b[0m\u001b[1;33m\u001b[0m\u001b[0m\n",
      "\n",
      "\u001b[1;32m~\\PythonForDataAnalysis\\examples\\ipython_bug.py\u001b[0m in \u001b[0;36mthrows_an_exception\u001b[1;34m()\u001b[0m\n",
      "\u001b[0;32m      7\u001b[0m     \u001b[0ma\u001b[0m \u001b[1;33m=\u001b[0m \u001b[1;36m5\u001b[0m\u001b[1;33m\u001b[0m\u001b[0m\n",
      "\u001b[0;32m      8\u001b[0m     \u001b[0mb\u001b[0m \u001b[1;33m=\u001b[0m \u001b[1;36m6\u001b[0m\u001b[1;33m\u001b[0m\u001b[0m\n",
      "\u001b[1;32m----> 9\u001b[1;33m     \u001b[1;32massert\u001b[0m\u001b[1;33m(\u001b[0m\u001b[0ma\u001b[0m \u001b[1;33m+\u001b[0m \u001b[0mb\u001b[0m \u001b[1;33m==\u001b[0m \u001b[1;36m10\u001b[0m\u001b[1;33m)\u001b[0m\u001b[1;33m\u001b[0m\u001b[0m\n",
      "\u001b[0m\u001b[0;32m     10\u001b[0m \u001b[1;33m\u001b[0m\u001b[0m\n",
      "\u001b[0;32m     11\u001b[0m \u001b[1;32mdef\u001b[0m \u001b[0mcalling_things\u001b[0m\u001b[1;33m(\u001b[0m\u001b[1;33m)\u001b[0m\u001b[1;33m:\u001b[0m\u001b[1;33m\u001b[0m\u001b[0m\n",
      "\n",
      "\u001b[1;31mAssertionError\u001b[0m: \n"
     ]
    }
   ],
   "source": [
    "# Running debugger with line number sets breakpoint\n",
    "%run -d -b2 examples/ipython_bug.py"
   ]
  },
  {
   "cell_type": "markdown",
   "metadata": {},
   "source": [
    "### Timing Code: %time and %timeit\n",
    "#### For longer running applications, you may want to know execution time for various components or of individual statements or function cells.\n",
    "#### You may want report of which functions are taking up most time in a complex process.\n",
    "#### IPython enables you to get this information easily while developing or testing your code.\n",
    "#### Timing code manually using built-in 'time' module and its functions 'time.clock' and 'time.time' is tedious and repetetive, as shown by below boilerplate code."
   ]
  },
  {
   "cell_type": "code",
   "execution_count": 54,
   "metadata": {},
   "outputs": [
    {
     "data": {
      "text/plain": [
       "'\\nimport time\\n\\nstart = time.time()\\nfor i in range(iterations):\\n    #Some code\\nelapsed_per = (time.time() - start) / iterations\\n'"
      ]
     },
     "execution_count": 54,
     "metadata": {},
     "output_type": "execute_result"
    }
   ],
   "source": [
    "'''\n",
    "import time\n",
    "\n",
    "start = time.time()\n",
    "for i in range(iterations):\n",
    "    #Some code\n",
    "elapsed_per = (time.time() - start) / iterations\n",
    "'''"
   ]
  },
  {
   "cell_type": "markdown",
   "metadata": {},
   "source": [
    "#### This is so common that IPython has 2 magic functions '%time' and '%timeit' to automate this process for you.\n",
    "#### '%time' runs a statement once, reporting total execution time. The 'Wall time' is the main number of interest.\n",
    "#### But %time does not provide a very precise measurement. As shown by below example. The timing of the 2 functions varies with each execution."
   ]
  },
  {
   "cell_type": "code",
   "execution_count": 56,
   "metadata": {},
   "outputs": [],
   "source": [
    "strings = ['foo', 'foobar', 'baz', 'qux',\n",
    "          'python', 'Guido Van Rossum'] * 1000000\n",
    "\n",
    "methods1 = [x for x in strings if x.startswith('foo')]\n",
    "methods2 = [x for x in strings if x[:3] == 'foo']"
   ]
  },
  {
   "cell_type": "code",
   "execution_count": 57,
   "metadata": {},
   "outputs": [
    {
     "name": "stdout",
     "output_type": "stream",
     "text": [
      "Wall time: 823 ms\n"
     ]
    }
   ],
   "source": [
    "# First run\n",
    "%time method1 = [x for x in strings if x.startswith('foo')]"
   ]
  },
  {
   "cell_type": "code",
   "execution_count": 58,
   "metadata": {},
   "outputs": [
    {
     "name": "stdout",
     "output_type": "stream",
     "text": [
      "Wall time: 562 ms\n"
     ]
    }
   ],
   "source": [
    "%time methods2 = [x for x in strings if x[:3] == 'foo']"
   ]
  },
  {
   "cell_type": "code",
   "execution_count": 59,
   "metadata": {},
   "outputs": [
    {
     "name": "stdout",
     "output_type": "stream",
     "text": [
      "Wall time: 843 ms\n"
     ]
    }
   ],
   "source": [
    "# 2nd run - Lot of variation from 1st run\n",
    "%time method1 = [x for x in strings if x.startswith('foo')]"
   ]
  },
  {
   "cell_type": "code",
   "execution_count": 60,
   "metadata": {},
   "outputs": [
    {
     "name": "stdout",
     "output_type": "stream",
     "text": [
      "Wall time: 464 ms\n"
     ]
    }
   ],
   "source": [
    "%time methods2 = [x for x in strings if x[:3] == 'foo']"
   ]
  },
  {
   "cell_type": "markdown",
   "metadata": {},
   "source": [
    "#### To get more precise measurement, use the '%timeit' magic function.\n",
    "#### Given an arbitrary statement, it has a heuristic to run the stement multiple times to produce more accurate runtime."
   ]
  },
  {
   "cell_type": "code",
   "execution_count": 62,
   "metadata": {},
   "outputs": [
    {
     "name": "stdout",
     "output_type": "stream",
     "text": [
      "835 ms ± 14.2 ms per loop (mean ± std. dev. of 7 runs, 1 loop each)\n"
     ]
    }
   ],
   "source": [
    "%timeit method1 = [x for x in strings if x.startswith('foo')]"
   ]
  },
  {
   "cell_type": "code",
   "execution_count": 63,
   "metadata": {},
   "outputs": [
    {
     "name": "stdout",
     "output_type": "stream",
     "text": [
      "467 ms ± 20.1 ms per loop (mean ± std. dev. of 7 runs, 1 loop each)\n"
     ]
    }
   ],
   "source": [
    "%timeit methods2 = [x for x in strings if x[:3] == 'foo']"
   ]
  },
  {
   "cell_type": "markdown",
   "metadata": {},
   "source": [
    "#### The above example illustrates that it is worth understanding performance characteristics of the Python standard library, NumPy, pandas, etc. In large-scale data analysis applications, each millisecond worth saving. \n",
    "#### %timeit is especially useful for analyzing statements and functions with short execution times, to the level of microseconds or nanoseconds.\n",
    "#### eg - A 20 microsecond function invoked 1 million times takes 15 seconds longer than a 5 microsecond function."
   ]
  },
  {
   "cell_type": "code",
   "execution_count": 65,
   "metadata": {},
   "outputs": [
    {
     "name": "stdout",
     "output_type": "stream",
     "text": [
      "141 ns ± 2.26 ns per loop (mean ± std. dev. of 7 runs, 10000000 loops each)\n"
     ]
    }
   ],
   "source": [
    "x = 'foobar'\n",
    "y = 'foo'\n",
    "\n",
    "%timeit x.startswith(y)"
   ]
  },
  {
   "cell_type": "code",
   "execution_count": 66,
   "metadata": {},
   "outputs": [
    {
     "name": "stdout",
     "output_type": "stream",
     "text": [
      "95.2 ns ± 1.01 ns per loop (mean ± std. dev. of 7 runs, 10000000 loops each)\n"
     ]
    }
   ],
   "source": [
    "%timeit x[:3] == y"
   ]
  },
  {
   "cell_type": "markdown",
   "metadata": {},
   "source": [
    "### Basic Profiling: %prun and %run -p\n",
    "#### Profiling code is closely related to timing code. Only difference is that the former determines 'where' time is spent.\n",
    "#### The main Python profiling tool is 'cProfile', which is not specific to IPython. It executes a program or arbitrary code while keeping track of how much time is spent in each function.\n",
    "#### A common way to use it is on the command line, running the entire program and outputing aggregate time per function.\n",
    "#### Its easiest to scan down the 'cumtime' column and see how much total time was spent inside each function.\n",
    "#### Note that if a function calls other function, its clock 'does not stop running'."
   ]
  },
  {
   "cell_type": "code",
   "execution_count": 71,
   "metadata": {},
   "outputs": [
    {
     "name": "stdout",
     "output_type": "stream",
     "text": [
      "Largest one we saw:  11.51654142464131\n"
     ]
    }
   ],
   "source": [
    "import numpy as np\n",
    "from numpy.linalg import eigvals\n",
    "\n",
    "def run_experiment(niter=100):\n",
    "    K = 100\n",
    "    results = []\n",
    "    for _ in range(niter):\n",
    "        mat = np.random.randn(K, K)\n",
    "        max_eigenvalue = np.abs(eigvals(mat)).max()\n",
    "        results.append(max_eigenvalue)\n",
    "    return results\n",
    "\n",
    "some_results = run_experiment()\n",
    "print('Largest one we saw: ',np.max(some_results))"
   ]
  },
  {
   "cell_type": "code",
   "execution_count": 73,
   "metadata": {},
   "outputs": [
    {
     "name": "stdout",
     "output_type": "stream",
     "text": [
      "Largest one we saw:  11.622255056021956\n",
      "         57874 function calls (55609 primitive calls) in 0.490 seconds\n",
      "\n",
      "   Ordered by: standard name\n",
      "\n",
      "   ncalls  tottime  percall  cumtime  percall filename:lineno(function)\n",
      "      354    0.001    0.000    0.001    0.000 <frozen importlib._bootstrap>:103(release)\n",
      "      162    0.000    0.000    0.000    0.000 <frozen importlib._bootstrap>:143(__init__)\n",
      "      162    0.000    0.000    0.002    0.000 <frozen importlib._bootstrap>:147(__enter__)\n",
      "      162    0.000    0.000    0.001    0.000 <frozen importlib._bootstrap>:151(__exit__)\n",
      "      354    0.001    0.000    0.002    0.000 <frozen importlib._bootstrap>:157(_get_module_lock)\n",
      "      161    0.000    0.000    0.000    0.000 <frozen importlib._bootstrap>:176(cb)\n",
      "      192    0.000    0.000    0.001    0.000 <frozen importlib._bootstrap>:194(_lock_unlock_module)\n",
      "    220/1    0.000    0.000    0.117    0.117 <frozen importlib._bootstrap>:211(_call_with_frames_removed)\n",
      "     1546    0.001    0.000    0.001    0.000 <frozen importlib._bootstrap>:222(_verbose_message)\n",
      "       11    0.000    0.000    0.000    0.000 <frozen importlib._bootstrap>:232(_requires_builtin_wrapper)\n",
      "      150    0.000    0.000    0.000    0.000 <frozen importlib._bootstrap>:307(__init__)\n",
      "      150    0.000    0.000    0.000    0.000 <frozen importlib._bootstrap>:311(__enter__)\n",
      "      150    0.000    0.000    0.001    0.000 <frozen importlib._bootstrap>:318(__exit__)\n",
      "      600    0.000    0.000    0.000    0.000 <frozen importlib._bootstrap>:321(<genexpr>)\n",
      "      125    0.000    0.000    0.000    0.000 <frozen importlib._bootstrap>:35(_new_module)\n",
      "      157    0.000    0.000    0.000    0.000 <frozen importlib._bootstrap>:369(__init__)\n",
      "      264    0.000    0.000    0.002    0.000 <frozen importlib._bootstrap>:403(cached)\n",
      "      338    0.000    0.000    0.000    0.000 <frozen importlib._bootstrap>:416(parent)\n",
      "      150    0.000    0.000    0.000    0.000 <frozen importlib._bootstrap>:424(has_location)\n",
      "       11    0.000    0.000    0.000    0.000 <frozen importlib._bootstrap>:433(spec_from_loader)\n",
      "      150    0.001    0.000    0.003    0.000 <frozen importlib._bootstrap>:504(_init_module_attrs)\n",
      "  150/147    0.000    0.000    0.018    0.000 <frozen importlib._bootstrap>:564(module_from_spec)\n",
      "      161    0.000    0.000    0.001    0.000 <frozen importlib._bootstrap>:58(__init__)\n",
      "    150/1    0.001    0.000    0.117    0.117 <frozen importlib._bootstrap>:651(_load_unlocked)\n",
      "      157    0.000    0.000    0.000    0.000 <frozen importlib._bootstrap>:707(find_spec)\n",
      "       11    0.000    0.000    0.001    0.000 <frozen importlib._bootstrap>:728(create_module)\n",
      "       11    0.000    0.000    0.000    0.000 <frozen importlib._bootstrap>:736(exec_module)\n",
      "       11    0.000    0.000    0.000    0.000 <frozen importlib._bootstrap>:753(is_package)\n",
      "      354    0.001    0.000    0.001    0.000 <frozen importlib._bootstrap>:78(acquire)\n",
      "      146    0.000    0.000    0.000    0.000 <frozen importlib._bootstrap>:780(find_spec)\n",
      "      449    0.000    0.000    0.000    0.000 <frozen importlib._bootstrap>:843(__enter__)\n",
      "      449    0.000    0.000    0.000    0.000 <frozen importlib._bootstrap>:847(__exit__)\n",
      "      157    0.001    0.000    0.033    0.000 <frozen importlib._bootstrap>:870(_find_spec)\n",
      "    162/1    0.001    0.000    0.118    0.118 <frozen importlib._bootstrap>:936(_find_and_load_unlocked)\n",
      "    162/1    0.001    0.000    0.119    0.119 <frozen importlib._bootstrap>:966(_find_and_load)\n",
      "   798/29    0.001    0.000    0.114    0.004 <frozen importlib._bootstrap>:997(_handle_fromlist)\n",
      "       17    0.001    0.000    0.002    0.000 <frozen importlib._bootstrap_external>:1067(_path_hooks)\n",
      "      337    0.000    0.000    0.002    0.000 <frozen importlib._bootstrap_external>:1080(_path_importer_cache)\n",
      "      146    0.001    0.000    0.031    0.000 <frozen importlib._bootstrap_external>:1117(_get_spec)\n",
      "      146    0.000    0.000    0.031    0.000 <frozen importlib._bootstrap_external>:1149(find_spec)\n",
      "       17    0.000    0.000    0.000    0.000 <frozen importlib._bootstrap_external>:1196(__init__)\n",
      "      136    0.000    0.000    0.000    0.000 <frozen importlib._bootstrap_external>:1202(<genexpr>)\n",
      "      139    0.000    0.000    0.001    0.000 <frozen importlib._bootstrap_external>:1228(_get_spec)\n",
      "      294    0.002    0.000    0.028    0.000 <frozen importlib._bootstrap_external>:1233(find_spec)\n",
      "       17    0.000    0.000    0.002    0.000 <frozen importlib._bootstrap_external>:1281(_fill_cache)\n",
      "       17    0.000    0.000    0.000    0.000 <frozen importlib._bootstrap_external>:1310(<setcomp>)\n",
      "       17    0.000    0.000    0.001    0.000 <frozen importlib._bootstrap_external>:1322(path_hook_for_FileFinder)\n",
      "      250    0.001    0.000    0.003    0.000 <frozen importlib._bootstrap_external>:263(cache_from_source)\n",
      "      139    0.000    0.000    0.002    0.000 <frozen importlib._bootstrap_external>:361(_get_cached)\n",
      "      294    0.000    0.000    0.000    0.000 <frozen importlib._bootstrap_external>:37(_relax_case)\n",
      "      125    0.000    0.000    0.000    0.000 <frozen importlib._bootstrap_external>:393(_check_name_wrapper)\n",
      "      125    0.002    0.000    0.002    0.000 <frozen importlib._bootstrap_external>:430(_validate_bytecode_header)\n",
      "      125    0.000    0.000    0.014    0.000 <frozen importlib._bootstrap_external>:485(_compile_bytecode)\n",
      "      250    0.000    0.000    0.000    0.000 <frozen importlib._bootstrap_external>:52(_r_long)\n",
      "      139    0.000    0.000    0.001    0.000 <frozen importlib._bootstrap_external>:524(spec_from_file_location)\n",
      "     1436    0.001    0.000    0.003    0.000 <frozen importlib._bootstrap_external>:57(_path_join)\n",
      "     1436    0.001    0.000    0.001    0.000 <frozen importlib._bootstrap_external>:59(<listcomp>)\n",
      "      250    0.001    0.000    0.001    0.000 <frozen importlib._bootstrap_external>:63(_path_split)\n",
      "      125    0.000    0.000    0.000    0.000 <frozen importlib._bootstrap_external>:669(create_module)\n",
      "    125/1    0.001    0.000    0.117    0.117 <frozen importlib._bootstrap_external>:672(exec_module)\n",
      "      125    0.001    0.000    0.034    0.000 <frozen importlib._bootstrap_external>:743(get_code)\n",
      "      609    0.000    0.000    0.024    0.000 <frozen importlib._bootstrap_external>:75(_path_stat)\n",
      "      125    0.000    0.000    0.000    0.000 <frozen importlib._bootstrap_external>:800(__init__)\n",
      "      125    0.000    0.000    0.000    0.000 <frozen importlib._bootstrap_external>:825(get_filename)\n",
      "      125    0.007    0.000    0.012    0.000 <frozen importlib._bootstrap_external>:830(get_data)\n",
      "      125    0.000    0.000    0.004    0.000 <frozen importlib._bootstrap_external>:840(path_stats)\n",
      "      190    0.000    0.000    0.010    0.000 <frozen importlib._bootstrap_external>:85(_path_is_mode_type)\n",
      "       14    0.000    0.000    0.000    0.000 <frozen importlib._bootstrap_external>:908(__init__)\n",
      "    14/13    0.000    0.000    0.013    0.001 <frozen importlib._bootstrap_external>:919(create_module)\n",
      "       14    0.000    0.000    0.000    0.000 <frozen importlib._bootstrap_external>:927(exec_module)\n",
      "      173    0.000    0.000    0.010    0.000 <frozen importlib._bootstrap_external>:94(_path_isfile)\n",
      "       17    0.000    0.000    0.001    0.000 <frozen importlib._bootstrap_external>:99(_path_isdir)\n",
      "        1    0.000    0.000    0.000    0.000 <string>:1(<module>)\n",
      "        1    0.000    0.000    0.000    0.000 <string>:5(DecimalTuple)\n",
      "        1    0.000    0.000    0.000    0.000 <string>:5(DefragResult)\n",
      "        1    0.000    0.000    0.000    0.000 <string>:5(Match)\n",
      "        1    0.000    0.000    0.000    0.000 <string>:5(Mismatch)\n",
      "        1    0.000    0.000    0.000    0.000 <string>:5(ParseResult)\n",
      "        1    0.000    0.000    0.000    0.000 <string>:5(SplitResult)\n",
      "        1    0.000    0.000    0.000    0.000 <string>:5(TokenInfo)\n",
      "        1    0.000    0.000    0.000    0.000 <string>:5(_LoggingWatcher)\n",
      "        1    0.000    0.000    0.000    0.000 <string>:5(usage)\n",
      "        1    0.000    0.000    0.000    0.000 __config__.py:3(<module>)\n",
      "        1    0.000    0.000    0.000    0.000 __future__.py:48(<module>)\n",
      "        1    0.000    0.000    0.000    0.000 __future__.py:78(_Feature)\n",
      "        9    0.000    0.000    0.000    0.000 __future__.py:79(__init__)\n",
      "        6    0.000    0.000    0.172    0.029 __init__.py:1(<module>)\n",
      "        1    0.000    0.000    0.007    0.007 __init__.py:10(<module>)\n",
      "        1    0.000    0.000    0.000    0.000 __init__.py:1008(FileHandler)\n",
      "        1    0.000    0.000    0.117    0.117 __init__.py:106(<module>)\n",
      "        1    0.000    0.000    0.000    0.000 __init__.py:1077(_StderrHandler)\n",
      "        1    0.000    0.000    0.000    0.000 __init__.py:1083(__init__)\n",
      "        1    0.000    0.000    0.000    0.000 __init__.py:1101(PlaceHolder)\n",
      "        1    0.000    0.000    0.000    0.000 __init__.py:1143(Manager)\n",
      "        1    0.000    0.000    0.000    0.000 __init__.py:1148(__init__)\n",
      "        1    0.000    0.000    0.000    0.000 __init__.py:1251(Logger)\n",
      "        1    0.000    0.000    0.000    0.000 __init__.py:1266(__init__)\n",
      "        1    0.000    0.000    0.000    0.000 __init__.py:129(extendkey)\n",
      "       14    0.000    0.000    0.000    0.000 __init__.py:139(_check_size)\n",
      "        1    0.000    0.000    0.005    0.005 __init__.py:15(<module>)\n",
      "        1    0.000    0.000    0.000    0.000 __init__.py:151(py_object)\n",
      "        1    0.000    0.000    0.000    0.000 __init__.py:1574(RootLogger)\n",
      "        1    0.000    0.000    0.000    0.000 __init__.py:1580(__init__)\n",
      "        1    0.000    0.000    0.000    0.000 __init__.py:1588(LoggerAdapter)\n",
      "        1    0.000    0.000    0.000    0.000 __init__.py:160(c_short)\n",
      "        1    0.000    0.000    0.000    0.000 __init__.py:164(c_ushort)\n",
      "        1    0.000    0.000    0.000    0.000 __init__.py:168(c_long)\n",
      "        1    0.000    0.000    0.000    0.000 __init__.py:172(c_ulong)\n",
      "        1    0.000    0.000    0.000    0.000 __init__.py:189(c_float)\n",
      "        2    0.000    0.000    0.000    0.000 __init__.py:190(_checkLevel)\n",
      "        1    0.000    0.000    0.000    0.000 __init__.py:193(c_double)\n",
      "        1    0.000    0.000    0.000    0.000 __init__.py:1964(NullHandler)\n",
      "        1    0.000    0.000    0.000    0.000 __init__.py:197(c_longdouble)\n",
      "        1    0.000    0.000    0.000    0.000 __init__.py:207(c_longlong)\n",
      "        1    0.000    0.000    0.000    0.000 __init__.py:211(c_ulonglong)\n",
      "        1    0.000    0.000    0.000    0.000 __init__.py:218(c_ubyte)\n",
      "        1    0.000    0.000    0.000    0.000 __init__.py:219(_acquireLock)\n",
      "        1    0.000    0.000    0.000    0.000 __init__.py:225(c_byte)\n",
      "        1    0.000    0.000    0.000    0.000 __init__.py:228(_releaseLock)\n",
      "        1    0.000    0.000    0.000    0.000 __init__.py:230(c_char)\n",
      "        1    0.000    0.000    0.000    0.000 __init__.py:235(c_char_p)\n",
      "        1    0.000    0.000    0.000    0.000 __init__.py:239(LogRecord)\n",
      "        1    0.000    0.000    0.003    0.003 __init__.py:24(<module>)\n",
      "       14    0.000    0.000    0.000    0.000 __init__.py:24(register_func)\n",
      "        1    0.000    0.000    0.000    0.000 __init__.py:241(c_void_p)\n",
      "        1    0.000    0.000    0.000    0.000 __init__.py:246(c_bool)\n",
      "        1    0.000    0.000    0.000    0.000 __init__.py:251(c_wchar_p)\n",
      "        1    0.000    0.000    0.000    0.000 __init__.py:256(c_wchar)\n",
      "        1    0.000    0.000    0.000    0.000 __init__.py:259(_reset_cache)\n",
      "        1    0.000    0.000    0.002    0.002 __init__.py:27(<module>)\n",
      "        1    0.000    0.000    0.001    0.001 __init__.py:3(<module>)\n",
      "        1    0.000    0.000    0.000    0.000 __init__.py:311(CDLL)\n",
      "        2    0.000    0.000    0.000    0.000 __init__.py:332(__init__)\n",
      "        2    0.000    0.000    0.000    0.000 __init__.py:342(_FuncPtr)\n",
      "        9    0.000    0.000    0.004    0.000 __init__.py:357(namedtuple)\n",
      "        1    0.000    0.000    0.000    0.000 __init__.py:358(__getattr__)\n",
      "        1    0.000    0.000    0.000    0.000 __init__.py:365(__getitem__)\n",
      "        1    0.000    0.000    0.000    0.000 __init__.py:371(PyDLL)\n",
      "        1    0.000    0.000    0.000    0.000 __init__.py:378(PercentStyle)\n",
      "        1    0.000    0.000    0.000    0.000 __init__.py:380(WinDLL)\n",
      "        1    0.000    0.000    0.000    0.000 __init__.py:384(__init__)\n",
      "        1    0.000    0.000    0.000    0.000 __init__.py:389(HRESULT)\n",
      "        1    0.000    0.000    0.000    0.000 __init__.py:393(StrFormatStyle)\n",
      "        1    0.000    0.000    0.000    0.000 __init__.py:402(OleDLL)\n",
      "        1    0.000    0.000    0.000    0.000 __init__.py:402(StringTemplateStyle)\n",
      "        1    0.000    0.000    0.005    0.005 __init__.py:41(<module>)\n",
      "        1    0.000    0.000    0.000    0.000 __init__.py:411(LibraryLoader)\n",
      "        4    0.000    0.000    0.000    0.000 __init__.py:412(__init__)\n",
      "        1    0.000    0.000    0.000    0.000 __init__.py:415(__getattr__)\n",
      "       41    0.000    0.000    0.000    0.000 __init__.py:420(<genexpr>)\n",
      "       41    0.000    0.000    0.000    0.000 __init__.py:422(<genexpr>)\n",
      "        1    0.000    0.000    0.000    0.000 __init__.py:426(Formatter)\n",
      "        2    0.000    0.000    0.023    0.012 __init__.py:45(<module>)\n",
      "        1    0.000    0.000    0.000    0.000 __init__.py:470(__init__)\n",
      "        3    0.000    0.000    0.000    0.000 __init__.py:476(PYFUNCTYPE)\n",
      "        3    0.000    0.000    0.000    0.000 __init__.py:477(CFunctionType)\n",
      "        1    0.000    0.000    0.000    0.000 __init__.py:599(BufferingFormatter)\n",
      "        1    0.000    0.000    0.000    0.000 __init__.py:641(Filter)\n",
      "        1    0.000    0.000    0.000    0.000 __init__.py:678(Filterer)\n",
      "        2    0.000    0.000    0.000    0.000 __init__.py:683(__init__)\n",
      "        1    0.000    0.000    0.039    0.039 __init__.py:7(<module>)\n",
      "        3    0.000    0.000    0.000    0.000 __init__.py:73(CFUNCTYPE)\n",
      "        1    0.000    0.000    0.000    0.000 __init__.py:750(_addHandlerRef)\n",
      "        1    0.000    0.000    0.000    0.000 __init__.py:760(Handler)\n",
      "        1    0.000    0.000    0.000    0.000 __init__.py:769(__init__)\n",
      "        1    0.000    0.000    0.000    0.000 __init__.py:798(createLock)\n",
      "        1    0.000    0.000    0.002    0.002 __init__.py:88(<module>)\n",
      "        1    0.000    0.000    0.000    0.000 __init__.py:949(StreamHandler)\n",
      "        3    0.000    0.000    0.000    0.000 __init__.py:99(CFunctionType)\n",
      "        1    0.000    0.000    0.000    0.000 _collections_abc.py:349(__subclasshook__)\n",
      "        2    0.000    0.000    0.000    0.000 _collections_abc.py:657(get)\n",
      "        2    0.000    0.000    0.000    0.000 _collections_abc.py:664(__contains__)\n",
      "        1    0.000    0.000    0.000    0.000 _collections_abc.py:72(_check_methods)\n",
      "       43    0.000    0.000    0.000    0.000 _compat_pickle.py:165(<genexpr>)\n",
      "       86    0.000    0.000    0.000    0.000 _compat_pickle.py:167(<genexpr>)\n",
      "        1    0.000    0.000    0.000    0.000 _compat_pickle.py:9(<module>)\n",
      "        1    0.000    0.000    0.000    0.000 _compression.py:1(<module>)\n",
      "        1    0.000    0.000    0.000    0.000 _compression.py:33(DecompressReader)\n",
      "        1    0.000    0.000    0.000    0.000 _compression.py:9(BaseStream)\n",
      "        1    0.000    0.000    0.000    0.000 _datasource.py:136(_FileOpeners)\n",
      "        1    0.000    0.000    0.000    0.000 _datasource.py:160(__init__)\n",
      "        1    0.000    0.000    0.000    0.000 _datasource.py:263(DataSource)\n",
      "        1    0.000    0.000    0.000    0.000 _datasource.py:35(<module>)\n",
      "        1    0.000    0.000    0.000    0.000 _datasource.py:619(Repository)\n",
      "        1    0.000    0.000    0.001    0.001 _distributor_init.py:10(<module>)\n",
      "        1    0.000    0.000    0.000    0.000 _distributor_init.py:13(RTLD_for_MKL)\n",
      "        1    0.000    0.000    0.000    0.000 _distributor_init.py:14(__init__)\n",
      "        1    0.000    0.000    0.000    0.000 _distributor_init.py:17(__enter__)\n",
      "        1    0.000    0.000    0.000    0.000 _distributor_init.py:28(__exit__)\n",
      "        1    0.000    0.000    0.000    0.000 _endian.py:1(<module>)\n",
      "        1    0.000    0.000    0.000    0.000 _endian.py:23(_swapped_meta)\n",
      "        1    0.000    0.000    0.000    0.000 _endian.py:46(BigEndianStructure)\n",
      "        1    0.000    0.000    0.000    0.000 _globals.py:17(<module>)\n",
      "        1    0.000    0.000    0.000    0.000 _globals.py:33(ModuleDeprecationWarning)\n",
      "        1    0.000    0.000    0.000    0.000 _globals.py:45(VisibleDeprecationWarning)\n",
      "        1    0.000    0.000    0.000    0.000 _globals.py:56(_NoValue)\n",
      "        1    0.000    0.000    0.000    0.000 _import_tools.py:1(<module>)\n",
      "        1    0.000    0.000    0.000    0.000 _import_tools.py:339(PackageLoaderDebug)\n",
      "        1    0.000    0.000    0.000    0.000 _import_tools.py:9(PackageLoader)\n",
      "       98    0.000    0.000    0.000    0.000 _inspect.py:133(strseq)\n",
      "       38    0.000    0.000    0.000    0.000 _inspect.py:142(formatargspec)\n",
      "        7    0.000    0.000    0.000    0.000 _inspect.py:144(<lambda>)\n",
      "        5    0.000    0.000    0.000    0.000 _inspect.py:145(<lambda>)\n",
      "       60    0.000    0.000    0.000    0.000 _inspect.py:146(<lambda>)\n",
      "       43    0.000    0.000    0.000    0.000 _inspect.py:15(ismethod)\n",
      "       43    0.000    0.000    0.000    0.000 _inspect.py:28(isfunction)\n",
      "       38    0.000    0.000    0.000    0.000 _inspect.py:43(iscode)\n",
      "       38    0.000    0.000    0.000    0.000 _inspect.py:67(getargs)\n",
      "        1    0.000    0.000    0.000    0.000 _inspect.py:7(<module>)\n",
      "       43    0.000    0.000    0.000    0.000 _inspect.py:98(getargspec)\n",
      "        1    0.000    0.000    0.000    0.000 _internal.py:204(dummy_ctype)\n",
      "        1    0.000    0.000    0.000    0.000 _internal.py:216(_getintp_ctype)\n",
      "        1    0.000    0.000    0.000    0.000 _internal.py:239(_missing_ctypes)\n",
      "        1    0.000    0.000    0.000    0.000 _internal.py:246(_ctypes)\n",
      "        1    0.000    0.000    0.014    0.014 _internal.py:6(<module>)\n",
      "        1    0.000    0.000    0.000    0.000 _internal.py:683(TooHardError)\n",
      "        1    0.000    0.000    0.000    0.000 _internal.py:686(AxisError)\n",
      "       51    0.000    0.000    0.000    0.000 _internal.py:715(_ufunc_doc_signature_formatter)\n",
      "       78    0.000    0.000    0.000    0.000 _internal.py:726(<genexpr>)\n",
      "        1    0.000    0.000    0.000    0.000 _iotools.py:170(LineSplitter)\n",
      "        1    0.000    0.000    0.000    0.000 _iotools.py:266(NameValidator)\n",
      "        1    0.000    0.000    0.000    0.000 _iotools.py:3(<module>)\n",
      "        1    0.000    0.000    0.000    0.000 _iotools.py:460(ConverterError)\n",
      "        1    0.000    0.000    0.000    0.000 _iotools.py:468(ConverterLockError)\n",
      "        1    0.000    0.000    0.000    0.000 _iotools.py:476(ConversionWarning)\n",
      "        1    0.000    0.000    0.000    0.000 _iotools.py:489(StringConverter)\n",
      "      101    0.000    0.000    0.000    0.000 _methods.py:25(_amax)\n",
      "      200    0.000    0.000    0.001    0.000 _methods.py:40(_all)\n",
      "        1    0.000    0.000    0.000    0.000 _methods.py:5(<module>)\n",
      "        1    0.000    0.000    0.000    0.000 _numpy_fft.py:54(<module>)\n",
      "        1    0.000    0.000    0.000    0.000 _polybase.py:19(ABCPolyBase)\n",
      "        1    0.000    0.000    0.000    0.000 _polybase.py:8(<module>)\n",
      "        1    0.000    0.000    0.000    0.000 _version.py:18(NumpyVersion)\n",
      "        1    0.000    0.000    0.000    0.000 _version.py:7(<module>)\n",
      "       21    0.000    0.000    0.000    0.000 _weakrefset.py:16(__init__)\n",
      "       21    0.000    0.000    0.000    0.000 _weakrefset.py:20(__enter__)\n",
      "       21    0.000    0.000    0.000    0.000 _weakrefset.py:26(__exit__)\n",
      "       54    0.000    0.000    0.000    0.000 _weakrefset.py:36(__init__)\n",
      "       21    0.000    0.000    0.000    0.000 _weakrefset.py:52(_commit_removals)\n",
      "       42    0.000    0.000    0.000    0.000 _weakrefset.py:58(__iter__)\n",
      "       26    0.000    0.000    0.000    0.000 _weakrefset.py:70(__contains__)\n",
      "       32    0.000    0.000    0.000    0.000 _weakrefset.py:81(add)\n",
      "       11    0.000    0.000    0.001    0.000 abc.py:132(__new__)\n",
      "       11    0.000    0.000    0.000    0.000 abc.py:135(<setcomp>)\n",
      "       10    0.000    0.000    0.000    0.000 abc.py:151(register)\n",
      "    23/10    0.000    0.000    0.000    0.000 abc.py:196(__subclasscheck__)\n",
      "       54    0.000    0.000    0.000    0.000 abc.py:9(abstractmethod)\n",
      "        1    0.000    0.000    0.094    0.094 add_newdocs.py:10(<module>)\n",
      "        1    0.000    0.000    0.000    0.000 argparse.py:1005(_HelpAction)\n",
      "        1    0.000    0.000    0.000    0.000 argparse.py:1024(_VersionAction)\n",
      "        1    0.000    0.000    0.000    0.000 argparse.py:1050(_SubParsersAction)\n",
      "        1    0.000    0.000    0.000    0.000 argparse.py:1052(_ChoicesPseudoAction)\n",
      "        1    0.000    0.000    0.000    0.000 argparse.py:109(_AttributeHolder)\n",
      "        1    0.000    0.000    0.000    0.000 argparse.py:1146(FileType)\n",
      "        1    0.000    0.000    0.000    0.000 argparse.py:1200(Namespace)\n",
      "        1    0.000    0.000    0.000    0.000 argparse.py:1220(_ActionsContainer)\n",
      "        1    0.000    0.000    0.000    0.000 argparse.py:150(HelpFormatter)\n",
      "        1    0.000    0.000    0.000    0.000 argparse.py:1527(_ArgumentGroup)\n",
      "        1    0.000    0.000    0.000    0.000 argparse.py:1561(_MutuallyExclusiveGroup)\n",
      "        1    0.000    0.000    0.000    0.000 argparse.py:1581(ArgumentParser)\n",
      "        1    0.000    0.000    0.000    0.000 argparse.py:200(_Section)\n",
      "        1    0.000    0.000    0.001    0.001 argparse.py:62(<module>)\n",
      "        1    0.000    0.000    0.000    0.000 argparse.py:637(RawDescriptionHelpFormatter)\n",
      "        1    0.000    0.000    0.000    0.000 argparse.py:648(RawTextHelpFormatter)\n",
      "        1    0.000    0.000    0.000    0.000 argparse.py:659(ArgumentDefaultsHelpFormatter)\n",
      "        1    0.000    0.000    0.000    0.000 argparse.py:676(MetavarTypeHelpFormatter)\n",
      "        1    0.000    0.000    0.000    0.000 argparse.py:709(ArgumentError)\n",
      "        1    0.000    0.000    0.000    0.000 argparse.py:729(ArgumentTypeError)\n",
      "        1    0.000    0.000    0.000    0.000 argparse.py:738(Action)\n",
      "        1    0.000    0.000    0.000    0.000 argparse.py:829(_StoreAction)\n",
      "        1    0.000    0.000    0.000    0.000 argparse.py:864(_StoreConstAction)\n",
      "        1    0.000    0.000    0.000    0.000 argparse.py:887(_StoreTrueAction)\n",
      "        1    0.000    0.000    0.000    0.000 argparse.py:904(_StoreFalseAction)\n",
      "        1    0.000    0.000    0.000    0.000 argparse.py:921(_AppendAction)\n",
      "        1    0.000    0.000    0.000    0.000 argparse.py:958(_AppendConstAction)\n",
      "        1    0.000    0.000    0.000    0.000 argparse.py:984(_CountAction)\n",
      "        1    0.000    0.000    0.000    0.000 arraypad.py:5(<module>)\n",
      "        1    0.000    0.000    0.000    0.000 arrayprint.py:1072(IntegerFormat)\n",
      "        1    0.000    0.000    0.000    0.000 arrayprint.py:1085(BoolFormat)\n",
      "        1    0.000    0.000    0.000    0.000 arrayprint.py:1095(ComplexFloatingFormat)\n",
      "        1    0.000    0.000    0.000    0.000 arrayprint.py:1124(ComplexFormat)\n",
      "        1    0.000    0.000    0.000    0.000 arrayprint.py:1131(LongComplexFormat)\n",
      "        1    0.000    0.000    0.000    0.000 arrayprint.py:1139(_TimelikeFormat)\n",
      "        1    0.000    0.000    0.000    0.000 arrayprint.py:1165(DatetimeFormat)\n",
      "        1    0.000    0.000    0.000    0.000 arrayprint.py:1197(TimedeltaFormat)\n",
      "        1    0.000    0.000    0.000    0.000 arrayprint.py:1202(SubArrayFormat)\n",
      "        1    0.000    0.000    0.000    0.000 arrayprint.py:1212(StructuredVoidFormat)\n",
      "        1    0.000    0.000    0.000    0.000 arrayprint.py:1249(StructureFormat)\n",
      "        2    0.000    0.000    0.000    0.000 arrayprint.py:1469(set_string_function)\n",
      "        2    0.000    0.000    0.000    0.000 arrayprint.py:406(_recursive_guard)\n",
      "        2    0.000    0.000    0.000    0.000 arrayprint.py:416(decorating_function)\n",
      "        1    0.000    0.000    0.000    0.000 arrayprint.py:5(<module>)\n",
      "        1    0.000    0.000    0.000    0.000 arrayprint.py:775(FloatingFormat)\n",
      "        1    0.000    0.000    0.000    0.000 arrayprint.py:918(FloatFormat)\n",
      "        1    0.000    0.000    0.000    0.000 arrayprint.py:925(LongFloatFormat)\n",
      "        1    0.000    0.000    0.000    0.000 arraysetops.py:27(<module>)\n",
      "        1    0.000    0.000    0.000    0.000 arrayterator.py:20(Arrayterator)\n",
      "        1    0.000    0.000    0.000    0.000 arrayterator.py:9(<module>)\n",
      "        1    0.000    0.000    0.000    0.000 ast.py:229(NodeVisitor)\n",
      "        1    0.000    0.000    0.000    0.000 ast.py:26(<module>)\n",
      "        1    0.000    0.000    0.000    0.000 ast.py:266(NodeTransformer)\n",
      "        1    0.000    0.000    0.000    0.000 bisect.py:1(<module>)\n",
      "        1    0.000    0.000    0.000    0.000 bz2.py:32(BZ2File)\n",
      "        1    0.000    0.000    0.001    0.001 bz2.py:5(<module>)\n",
      "        1    0.000    0.000    0.007    0.007 case.py:1(<module>)\n",
      "        1    0.000    0.000    0.000    0.000 case.py:128(_BaseTestCaseContext)\n",
      "       10    0.000    0.000    0.000    0.000 case.py:1316(_deprecate)\n",
      "        1    0.000    0.000    0.000    0.000 case.py:1338(FunctionTestCase)\n",
      "        1    0.000    0.000    0.000    0.000 case.py:137(_AssertRaisesBaseContext)\n",
      "        1    0.000    0.000    0.000    0.000 case.py:1396(_SubTest)\n",
      "        1    0.000    0.000    0.000    0.000 case.py:184(_AssertRaisesContext)\n",
      "        1    0.000    0.000    0.000    0.000 case.py:221(_AssertWarnsContext)\n",
      "        1    0.000    0.000    0.000    0.000 case.py:25(SkipTest)\n",
      "        1    0.000    0.000    0.000    0.000 case.py:278(_CapturingHandler)\n",
      "        1    0.000    0.000    0.000    0.000 case.py:297(_AssertLogsContext)\n",
      "        1    0.000    0.000    0.000    0.000 case.py:33(_ShouldStop)\n",
      "        1    0.000    0.000    0.000    0.000 case.py:341(TestCase)\n",
      "        1    0.000    0.000    0.000    0.000 case.py:38(_UnexpectedSuccess)\n",
      "        1    0.000    0.000    0.000    0.000 case.py:44(_Outcome)\n",
      "        1    0.000    0.000    0.000    0.000 chebyshev.py:2109(Chebyshev)\n",
      "        1    0.000    0.000    0.000    0.000 chebyshev.py:88(<module>)\n",
      "        6    0.000    0.000    0.000    0.000 contextlib.py:129(contextmanager)\n",
      "        1    0.000    0.000    0.000    0.000 copyreg.py:12(pickle)\n",
      "        1    0.000    0.000    0.000    0.000 copyreg.py:22(constructor)\n",
      "        1    0.000    0.000    0.000    0.000 core.py:1122(_DomainedBinaryOperation)\n",
      "        6    0.000    0.000    0.000    0.000 core.py:1143(__init__)\n",
      "        4    0.000    0.000    0.000    0.000 core.py:125(doc_note)\n",
      "        3    0.000    0.000    0.000    0.000 core.py:1360(getmask)\n",
      "       43    0.000    0.000    0.000    0.000 core.py:150(get_object_signature)\n",
      "        1    0.000    0.000    0.000    0.000 core.py:167(MAError)\n",
      "        1    0.000    0.000    0.000    0.000 core.py:175(MaskError)\n",
      "        1    0.000    0.000    0.000    0.000 core.py:207(<listcomp>)\n",
      "        1    0.000    0.000    0.000    0.000 core.py:209(<listcomp>)\n",
      "        1    0.000    0.000    0.002    0.002 core.py:21(<module>)\n",
      "        1    0.000    0.000    0.000    0.000 core.py:2374(_MaskedPrintOption)\n",
      "        1    0.000    0.000    0.000    0.000 core.py:2380(__init__)\n",
      "        8    0.000    0.000    0.000    0.000 core.py:2547(_arraymethod)\n",
      "        1    0.000    0.000    0.000    0.000 core.py:2592(MaskedIterator)\n",
      "        1    0.000    0.000    0.000    0.000 core.py:2706(MaskedArray)\n",
      "        1    0.000    0.000    0.000    0.000 core.py:2771(__new__)\n",
      "        2    0.000    0.000    0.000    0.000 core.py:2908(_update_from)\n",
      "        2    0.000    0.000    0.000    0.000 core.py:2934(__array_finalize__)\n",
      "        1    0.000    0.000    0.000    0.000 core.py:3064(view)\n",
      "        7    0.000    0.000    0.000    0.000 core.py:3372(__setattr__)\n",
      "        1    0.000    0.000    0.000    0.000 core.py:6058(mvoid)\n",
      "        1    0.000    0.000    0.000    0.000 core.py:6254(MaskedConstant)\n",
      "        2    0.000    0.000    0.000    0.000 core.py:6258(__has_singleton)\n",
      "        1    0.000    0.000    0.000    0.000 core.py:6264(__new__)\n",
      "        1    0.000    0.000    0.000    0.000 core.py:6282(__array_finalize__)\n",
      "        1    0.000    0.000    0.000    0.000 core.py:6420(_extrema_operation)\n",
      "        2    0.000    0.000    0.000    0.000 core.py:6429(__init__)\n",
      "        1    0.000    0.000    0.000    0.000 core.py:6539(_frommethod)\n",
      "       26    0.000    0.000    0.000    0.000 core.py:6550(__init__)\n",
      "       26    0.000    0.000    0.000    0.000 core.py:6555(getdoc)\n",
      "        1    0.000    0.000    0.000    0.000 core.py:794(_DomainCheckInterval)\n",
      "        1    0.000    0.000    0.000    0.000 core.py:8015(_convert2ma)\n",
      "        8    0.000    0.000    0.000    0.000 core.py:8028(__init__)\n",
      "        3    0.000    0.000    0.000    0.000 core.py:803(__init__)\n",
      "        8    0.000    0.000    0.000    0.000 core.py:8033(getdoc)\n",
      "        1    0.000    0.000    0.000    0.000 core.py:819(_DomainTan)\n",
      "        1    0.000    0.000    0.000    0.000 core.py:827(__init__)\n",
      "        1    0.000    0.000    0.000    0.000 core.py:837(_DomainSafeDivide)\n",
      "        6    0.000    0.000    0.000    0.000 core.py:843(__init__)\n",
      "        1    0.000    0.000    0.000    0.000 core.py:858(_DomainGreater)\n",
      "        3    0.000    0.000    0.000    0.000 core.py:864(__init__)\n",
      "        1    0.000    0.000    0.000    0.000 core.py:874(_DomainGreaterEqual)\n",
      "        2    0.000    0.000    0.000    0.000 core.py:880(__init__)\n",
      "        1    0.000    0.000    0.000    0.000 core.py:890(_MaskedUFunc)\n",
      "       53    0.000    0.000    0.000    0.000 core.py:891(__init__)\n",
      "        1    0.000    0.000    0.000    0.000 core.py:900(_MaskedUnaryOperation)\n",
      "       27    0.000    0.000    0.000    0.000 core.py:918(__init__)\n",
      "        1    0.000    0.000    0.000    0.000 core.py:94(MaskedArrayFutureWarning)\n",
      "        1    0.000    0.000    0.000    0.000 core.py:974(_MaskedBinaryOperation)\n",
      "       18    0.000    0.000    0.000    0.000 core.py:994(__init__)\n",
      "        4    0.000    0.000    0.000    0.000 cp1252.py:18(encode)\n",
      "        1    0.000    0.000    0.491    0.491 cprof_example.py:1(<module>)\n",
      "        1    0.001    0.001    0.372    0.372 cprof_example.py:4(run_experiment)\n",
      "        1    0.000    0.000    0.000    0.000 ctypeslib.py:177(_ndptr)\n",
      "       12    0.000    0.000    0.000    0.000 ctypeslib.py:331(prep_simple)\n",
      "        1    0.000    0.000    0.000    0.000 ctypeslib.py:51(<module>)\n",
      "        1    0.000    0.000    0.000    0.000 datetime.py:1023(time)\n",
      "        2    0.000    0.000    0.000    0.000 datetime.py:1048(__new__)\n",
      "        1    0.000    0.000    0.000    0.000 datetime.py:1360(datetime)\n",
      "        3    0.000    0.000    0.000    0.000 datetime.py:1368(__new__)\n",
      "        1    0.000    0.000    0.000    0.000 datetime.py:1949(timezone)\n",
      "        3    0.000    0.000    0.000    0.000 datetime.py:1972(_create)\n",
      "       35    0.000    0.000    0.000    0.000 datetime.py:261(_check_int_field)\n",
      "        5    0.000    0.000    0.000    0.000 datetime.py:278(_check_date_fields)\n",
      "        5    0.000    0.000    0.000    0.000 datetime.py:291(_check_time_fields)\n",
      "        5    0.000    0.000    0.000    0.000 datetime.py:308(_check_tzinfo_arg)\n",
      "        1    0.000    0.000    0.000    0.000 datetime.py:336(timedelta)\n",
      "        9    0.000    0.000    0.000    0.000 datetime.py:355(__new__)\n",
      "        3    0.000    0.000    0.000    0.000 datetime.py:40(_days_before_year)\n",
      "        5    0.000    0.000    0.000    0.000 datetime.py:45(_days_in_month)\n",
      "        1    0.000    0.000    0.001    0.001 datetime.py:5(<module>)\n",
      "        1    0.000    0.000    0.000    0.000 datetime.py:530(__neg__)\n",
      "        1    0.000    0.000    0.000    0.000 datetime.py:658(date)\n",
      "        2    0.000    0.000    0.000    0.000 datetime.py:688(__new__)\n",
      "        1    0.001    0.001    0.001    0.001 datetime.py:953(tzinfo)\n",
      "        1    0.000    0.000    0.001    0.001 decimal.py:2(<module>)\n",
      "        1    0.000    0.000    0.014    0.014 decorators.py:15(<module>)\n",
      "        1    0.000    0.000    0.015    0.015 decorators.py:5(<module>)\n",
      "        1    0.000    0.000    0.000    0.000 defchararray.py:1669(chararray)\n",
      "        1    0.000    0.000    0.000    0.000 defchararray.py:17(<module>)\n",
      "        1    0.000    0.000    0.001    0.001 defmatrix.py:1(<module>)\n",
      "        1    0.000    0.000    0.000    0.000 defmatrix.py:174(matrix)\n",
      "        1    0.000    0.000    0.000    0.000 difflib.py:1703(HtmlDiff)\n",
      "        1    0.000    0.000    0.001    0.001 difflib.py:27(<module>)\n",
      "        1    0.000    0.000    0.000    0.000 difflib.py:43(SequenceMatcher)\n",
      "        1    0.000    0.000    0.000    0.000 difflib.py:751(Differ)\n",
      "        1    0.000    0.000    0.000    0.000 einsumfunc.py:4(<module>)\n",
      "        2    0.000    0.000    0.000    0.000 enum.py:114(__prepare__)\n",
      "        2    0.000    0.000    0.000    0.000 enum.py:124(__new__)\n",
      "        2    0.000    0.000    0.000    0.000 enum.py:135(<dictcomp>)\n",
      "        2    0.000    0.000    0.000    0.000 enum.py:160(<setcomp>)\n",
      "        6    0.000    0.000    0.000    0.000 enum.py:179(<genexpr>)\n",
      "       11    0.000    0.000    0.000    0.000 enum.py:20(_is_descriptor)\n",
      "      686    0.000    0.000    0.001    0.000 enum.py:265(__call__)\n",
      "       15    0.000    0.000    0.000    0.000 enum.py:28(_is_dunder)\n",
      "        2    0.000    0.000    0.000    0.000 enum.py:310(__getattr__)\n",
      "        2    0.000    0.000    0.000    0.000 enum.py:335(__members__)\n",
      "       25    0.000    0.000    0.000    0.000 enum.py:351(__setattr__)\n",
      "       15    0.000    0.000    0.000    0.000 enum.py:36(_is_sunder)\n",
      "        2    0.000    0.000    0.000    0.000 enum.py:364(_create_)\n",
      "        6    0.000    0.000    0.000    0.000 enum.py:417(_get_mixins_)\n",
      "        2    0.000    0.000    0.000    0.000 enum.py:462(_find_new_)\n",
      "      684    0.000    0.000    0.000    0.000 enum.py:515(__new__)\n",
      "       70    0.000    0.000    0.000    0.000 enum.py:592(name)\n",
      "        4    0.000    0.000    0.000    0.000 enum.py:597(value)\n",
      "        2    0.000    0.000    0.000    0.000 enum.py:602(_convert)\n",
      "        2    0.000    0.000    0.000    0.000 enum.py:623(<listcomp>)\n",
      "       11    0.000    0.000    0.000    0.000 enum.py:628(<lambda>)\n",
      "        2    0.000    0.000    0.000    0.000 enum.py:65(__init__)\n",
      "       15    0.000    0.000    0.000    0.000 enum.py:70(__setitem__)\n",
      "        4    0.000    0.000    0.000    0.000 enum.py:758(_missing_)\n",
      "        4    0.000    0.000    0.000    0.000 enum.py:765(_create_pseudo_member_)\n",
      "       32    0.000    0.000    0.000    0.000 enum.py:795(__or__)\n",
      "      310    0.000    0.000    0.001    0.000 enum.py:801(__and__)\n",
      "       19    0.000    0.000    0.000    0.000 enum.py:820(_high_bit)\n",
      "        4    0.000    0.000    0.000    0.000 enum.py:837(_decompose)\n",
      "        1    0.000    0.000    0.000    0.000 enum.py:848(<listcomp>)\n",
      "        3    0.000    0.000    0.000    0.000 enum.py:855(<listcomp>)\n",
      "       15    0.000    0.000    0.000    0.000 enum.py:866(<lambda>)\n",
      "       25    0.000    0.000    0.000    0.000 enum.py:872(_power_of_two)\n",
      "        1    0.000    0.000    0.000    0.000 extras.py:10(<module>)\n",
      "        1    0.000    0.000    0.000    0.000 extras.py:1453(MAxisConcatenator)\n",
      "        1    0.000    0.000    0.000    0.000 extras.py:1478(mr_class)\n",
      "        1    0.000    0.000    0.000    0.000 extras.py:1494(__init__)\n",
      "        1    0.000    0.000    0.000    0.000 extras.py:218(_fromnxfunction)\n",
      "        9    0.000    0.000    0.000    0.000 extras.py:238(__init__)\n",
      "        9    0.000    0.000    0.000    0.000 extras.py:242(getdoc)\n",
      "        1    0.000    0.000    0.000    0.000 extras.py:273(_fromnxfunction_single)\n",
      "        1    0.000    0.000    0.000    0.000 extras.py:291(_fromnxfunction_seq)\n",
      "        1    0.000    0.000    0.000    0.000 extras.py:304(_fromnxfunction_args)\n",
      "        1    0.000    0.000    0.000    0.000 extras.py:329(_fromnxfunction_allargs)\n",
      "        1    0.000    0.000    0.001    0.001 fftpack.py:32(<module>)\n",
      "        1    0.000    0.000    0.002    0.002 financial.py:12(<module>)\n",
      "        1    0.000    0.000    0.001    0.001 fnmatch.py:11(<module>)\n",
      "        1    0.000    0.000    0.000    0.000 format.py:149(<module>)\n",
      "      100    0.000    0.000    0.001    0.000 fromnumeric.py:2021(all)\n",
      "        1    0.000    0.000    0.000    0.000 fromnumeric.py:2222(amax)\n",
      "        1    0.000    0.000    0.001    0.001 fromnumeric.py:3(<module>)\n",
      "        2    0.000    0.000    0.001    0.000 function_base.py:1(<module>)\n",
      "        1    0.000    0.000    0.000    0.000 function_base.py:2543(vectorize)\n",
      "      278    0.000    0.000    0.001    0.000 function_base.py:4533(add_newdoc)\n",
      "       31    0.000    0.000    0.000    0.000 functools.py:44(update_wrapper)\n",
      "        2    0.000    0.000    0.000    0.000 functools.py:448(lru_cache)\n",
      "        2    0.000    0.000    0.000    0.000 functools.py:479(decorating_function)\n",
      "       29    0.000    0.000    0.000    0.000 functools.py:74(wraps)\n",
      "        1    0.000    0.000    0.000    0.000 genericpath.py:16(exists)\n",
      "       30    0.000    0.000    0.000    0.000 getlimits.py:26(_fr1)\n",
      "        1    0.000    0.000    0.001    0.001 getlimits.py:3(<module>)\n",
      "        1    0.000    0.000    0.000    0.000 getlimits.py:305(finfo)\n",
      "        1    0.000    0.000    0.000    0.000 getlimits.py:455(iinfo)\n",
      "        5    0.000    0.000    0.000    0.000 getlimits.py:507(__init__)\n",
      "        2    0.000    0.000    0.000    0.000 getlimits.py:532(max)\n",
      "        1    0.000    0.000    0.000    0.000 getlimits.py:62(MachArLike)\n",
      "        6    0.000    0.000    0.000    0.000 getlimits.py:65(__init__)\n",
      "       36    0.000    0.000    0.000    0.000 getlimits.py:69(<lambda>)\n",
      "       30    0.000    0.000    0.000    0.000 getlimits.py:70(<lambda>)\n",
      "       14    0.000    0.000    0.001    0.000 hashlib.py:116(__get_openssl_constructor)\n",
      "        1    0.000    0.000    0.003    0.003 hashlib.py:54(<module>)\n",
      "        8    0.000    0.000    0.001    0.000 hashlib.py:73(__get_builtin_constructor)\n",
      "        1    0.000    0.000    0.000    0.000 helper.py:230(_FFTCache)\n",
      "        2    0.000    0.000    0.000    0.000 helper.py:251(__init__)\n",
      "        1    0.000    0.000    0.000    0.000 helper.py:4(<module>)\n",
      "        1    0.000    0.000    0.000    0.000 hermite.py:1814(Hermite)\n",
      "        1    0.000    0.000    0.000    0.000 hermite.py:59(<module>)\n",
      "        1    0.000    0.000    0.000    0.000 hermite_e.py:1811(HermiteE)\n",
      "        1    0.000    0.000    0.000    0.000 hermite_e.py:59(<module>)\n",
      "        1    0.000    0.000    0.004    0.004 index_tricks.py:1(<module>)\n",
      "        2    0.000    0.000    0.000    0.000 index_tricks.py:159(__init__)\n",
      "        1    0.000    0.000    0.000    0.000 index_tricks.py:231(AxisConcatenator)\n",
      "        3    0.000    0.000    0.000    0.000 index_tricks.py:241(__init__)\n",
      "        1    0.000    0.000    0.000    0.000 index_tricks.py:356(RClass)\n",
      "        1    0.000    0.000    0.000    0.000 index_tricks.py:451(__init__)\n",
      "        1    0.000    0.000    0.000    0.000 index_tricks.py:456(CClass)\n",
      "        1    0.000    0.000    0.000    0.000 index_tricks.py:481(__init__)\n",
      "        1    0.000    0.000    0.000    0.000 index_tricks.py:486(ndenumerate)\n",
      "        1    0.000    0.000    0.000    0.000 index_tricks.py:536(ndindex)\n",
      "        1    0.000    0.000    0.000    0.000 index_tricks.py:614(IndexExpression)\n",
      "        2    0.000    0.000    0.000    0.000 index_tricks.py:658(__init__)\n",
      "        1    0.000    0.000    0.000    0.000 index_tricks.py:98(nd_grid)\n",
      "        1    0.000    0.000    0.000    0.000 info.py:156(<module>)\n",
      "        1    0.000    0.000    0.000    0.000 info.py:184(<module>)\n",
      "        1    0.000    0.000    0.000    0.000 info.py:34(<module>)\n",
      "        1    0.000    0.000    0.000    0.000 info.py:83(<module>)\n",
      "        1    0.000    0.000    0.000    0.000 info.py:86(<module>)\n",
      "        1    0.000    0.000    0.000    0.000 laguerre.py:1764(Laguerre)\n",
      "        1    0.000    0.000    0.000    0.000 laguerre.py:59(<module>)\n",
      "        1    0.000    0.000    0.000    0.000 legendre.py:1794(Legendre)\n",
      "        1    0.000    0.000    0.000    0.000 legendre.py:83(<module>)\n",
      "        1    0.000    0.000    0.001    0.001 linalg.py:10(<module>)\n",
      "      100    0.000    0.000    0.000    0.000 linalg.py:100(get_linalg_error_extobj)\n",
      "      100    0.000    0.000    0.000    0.000 linalg.py:105(_makearray)\n",
      "      300    0.000    0.000    0.000    0.000 linalg.py:110(isComplexType)\n",
      "      100    0.000    0.000    0.000    0.000 linalg.py:123(_realType)\n",
      "      100    0.000    0.000    0.000    0.000 linalg.py:126(_complexType)\n",
      "      100    0.000    0.000    0.000    0.000 linalg.py:138(_commonType)\n",
      "      100    0.000    0.000    0.000    0.000 linalg.py:197(_assertRankAtLeast2)\n",
      "      100    0.000    0.000    0.000    0.000 linalg.py:208(_assertNdSquareness)\n",
      "      100    0.001    0.000    0.001    0.000 linalg.py:213(_assertFinite)\n",
      "        1    0.000    0.000    0.000    0.000 linalg.py:44(LinAlgError)\n",
      "        1    0.000    0.000    0.000    0.000 linalg.py:74(_determine_error_states)\n",
      "      100    0.340    0.003    0.344    0.003 linalg.py:834(eigvals)\n",
      "        1    0.000    0.000    0.003    0.003 linecache.py:6(<module>)\n",
      "        1    0.000    0.000    0.001    0.001 loader.py:1(<module>)\n",
      "        1    0.000    0.000    0.000    0.000 loader.py:23(_FailedTest)\n",
      "        1    0.000    0.000    0.000    0.000 loader.py:66(TestLoader)\n",
      "        1    0.000    0.000    0.000    0.000 loader.py:76(__init__)\n",
      "        1    0.000    0.000    0.000    0.000 lzma.py:38(LZMAFile)\n",
      "        1    0.000    0.000    0.001    0.001 lzma.py:9(<module>)\n",
      "        1    0.000    0.000    0.000    0.000 machar.py:17(MachAr)\n",
      "        1    0.000    0.000    0.000    0.000 machar.py:7(<module>)\n",
      "        1    0.000    0.000    0.004    0.004 main.py:1(<module>)\n",
      "        1    0.000    0.000    0.000    0.000 main.py:49(TestProgram)\n",
      "        1    0.000    0.000    0.000    0.000 memmap.py:1(<module>)\n",
      "        1    0.000    0.000    0.000    0.000 memmap.py:20(memmap)\n",
      "        1    0.000    0.000    0.000    0.000 mixins.py:1(<module>)\n",
      "       19    0.000    0.000    0.000    0.000 mixins.py:20(_binary_method)\n",
      "       13    0.000    0.000    0.000    0.000 mixins.py:30(_reflected_binary_method)\n",
      "       12    0.000    0.000    0.000    0.000 mixins.py:40(_inplace_binary_method)\n",
      "       12    0.000    0.000    0.000    0.000 mixins.py:48(_numeric_methods)\n",
      "        4    0.000    0.000    0.000    0.000 mixins.py:55(_unary_method)\n",
      "        1    0.000    0.000    0.000    0.000 mixins.py:63(NDArrayOperatorsMixin)\n",
      "        1    0.000    0.000    0.000    0.000 nanfunctions.py:21(<module>)\n",
      "        1    0.000    0.000    0.000    0.000 nosetester.py:115(NoseTester)\n",
      "       19    0.000    0.000    0.000    0.000 nosetester.py:157(__init__)\n",
      "        1    0.000    0.000    0.001    0.001 nosetester.py:5(<module>)\n",
      "       19    0.000    0.000    0.000    0.000 nosetester.py:554(_numpy_tester)\n",
      "        1    0.000    0.000    0.000    0.000 nosetester.py:6(<module>)\n",
      "        1    0.000    0.000    0.002    0.002 npyio.py:1(<module>)\n",
      "        1    0.000    0.000    0.000    0.000 npyio.py:106(NpzFile)\n",
      "        1    0.000    0.000    0.000    0.000 npyio.py:42(BagObj)\n",
      "       24    0.000    0.000    0.000    0.000 ntpath.py:122(splitdrive)\n",
      "       20    0.000    0.000    0.000    0.000 ntpath.py:200(split)\n",
      "       20    0.000    0.000    0.000    0.000 ntpath.py:241(dirname)\n",
      "       20    0.000    0.000    0.000    0.000 ntpath.py:34(_get_bothseps)\n",
      "        1    0.000    0.000    0.000    0.000 ntpath.py:44(normcase)\n",
      "        2    0.000    0.000    0.000    0.000 ntpath.py:75(join)\n",
      "        1    0.000    0.000    0.000    0.000 numbers.py:12(Number)\n",
      "        1    0.000    0.000    0.000    0.000 numbers.py:147(Real)\n",
      "        1    0.000    0.000    0.000    0.000 numbers.py:267(Rational)\n",
      "        1    0.000    0.000    0.000    0.000 numbers.py:294(Integral)\n",
      "        1    0.000    0.000    0.000    0.000 numbers.py:32(Complex)\n",
      "        1    0.000    0.000    0.000    0.000 numbers.py:6(<module>)\n",
      "        1    0.000    0.000    0.005    0.005 numeric.py:1(<module>)\n",
      "        6    0.000    0.000    0.000    0.000 numeric.py:2460(seterr)\n",
      "        6    0.000    0.000    0.000    0.000 numeric.py:2560(geterr)\n",
      "        1    0.000    0.000    0.000    0.000 numeric.py:2785(_unspecified)\n",
      "        1    0.000    0.000    0.000    0.000 numeric.py:2790(errstate)\n",
      "        3    0.000    0.000    0.000    0.000 numeric.py:2853(__init__)\n",
      "        3    0.000    0.000    0.000    0.000 numeric.py:2857(__enter__)\n",
      "        3    0.000    0.000    0.000    0.000 numeric.py:2862(__exit__)\n",
      "        1    0.000    0.000    0.000    0.000 numeric.py:2868(_setdef)\n",
      "        4    0.000    0.000    0.000    0.000 numeric.py:2882(extend_all)\n",
      "        1    0.000    0.000    0.000    0.000 numeric.py:2889(<listcomp>)\n",
      "      100    0.000    0.000    0.000    0.000 numeric.py:424(asarray)\n",
      "      100    0.000    0.000    0.000    0.000 numeric.py:495(asanyarray)\n",
      "        1    0.000    0.000    0.000    0.000 numeric.py:72(ComplexWarning)\n",
      "        1    0.000    0.000    0.000    0.000 numerictypes.py:121(<listcomp>)\n",
      "       72    0.000    0.000    0.000    0.000 numerictypes.py:128(english_lower)\n",
      "       38    0.000    0.000    0.000    0.000 numerictypes.py:155(english_upper)\n",
      "       12    0.000    0.000    0.000    0.000 numerictypes.py:182(english_capitalize)\n",
      "       23    0.000    0.000    0.000    0.000 numerictypes.py:217(_evalname)\n",
      "       26    0.000    0.000    0.000    0.000 numerictypes.py:230(bitname)\n",
      "        1    0.000    0.000    0.000    0.000 numerictypes.py:286(_add_types)\n",
      "        1    0.000    0.000    0.000    0.000 numerictypes.py:302(_add_aliases)\n",
      "        1    0.000    0.000    0.000    0.000 numerictypes.py:339(_add_integer_aliases)\n",
      "        1    0.000    0.000    0.000    0.000 numerictypes.py:380(_set_up_aliases)\n",
      "        1    0.000    0.000    0.000    0.000 numerictypes.py:429(_construct_char_code_lookup)\n",
      "       30    0.000    0.000    0.000    0.000 numerictypes.py:444(_add_array_type)\n",
      "        1    0.000    0.000    0.000    0.000 numerictypes.py:452(_set_array_types)\n",
      "        1    0.000    0.000    0.000    0.000 numerictypes.py:762(_typedict)\n",
      "        1    0.000    0.000    0.000    0.000 numerictypes.py:778(_construct_lookups)\n",
      "        1    0.000    0.000    0.002    0.002 numerictypes.py:82(<module>)\n",
      "        1    0.000    0.000    0.000    0.000 numerictypes.py:954(_register_types)\n",
      "        1    0.000    0.000    0.000    0.000 os.py:1067(__subclasshook__)\n",
      "        5    0.000    0.000    0.000    0.000 os.py:664(__getitem__)\n",
      "        3    0.000    0.000    0.000    0.000 os.py:672(__setitem__)\n",
      "        2    0.000    0.000    0.000    0.000 os.py:678(__delitem__)\n",
      "        2    0.000    0.000    0.000    0.000 os.py:720(<lambda>)\n",
      "       13    0.000    0.000    0.000    0.000 os.py:728(check_str)\n",
      "       10    0.000    0.000    0.000    0.000 os.py:734(encodekey)\n",
      "        1    0.000    0.000    0.000    0.000 os.py:760(getenv)\n",
      "        1    0.000    0.000    0.000    0.000 parse.py:126(_ResultMixinStr)\n",
      "        1    0.000    0.000    0.000    0.000 parse.py:134(_ResultMixinBytes)\n",
      "        1    0.000    0.000    0.000    0.000 parse.py:142(_NetlocResultMixinBase)\n",
      "        1    0.000    0.000    0.000    0.000 parse.py:175(_NetlocResultMixinStr)\n",
      "        1    0.000    0.000    0.000    0.000 parse.py:205(_NetlocResultMixinBytes)\n",
      "        1    0.000    0.000    0.002    0.002 parse.py:28(<module>)\n",
      "        1    0.000    0.000    0.000    0.000 parse.py:310(DefragResult)\n",
      "        1    0.000    0.000    0.000    0.000 parse.py:318(SplitResult)\n",
      "        1    0.000    0.000    0.000    0.000 parse.py:323(ParseResult)\n",
      "        1    0.000    0.000    0.000    0.000 parse.py:329(DefragResultBytes)\n",
      "        1    0.000    0.000    0.000    0.000 parse.py:337(SplitResultBytes)\n",
      "        1    0.000    0.000    0.000    0.000 parse.py:342(ParseResultBytes)\n",
      "        1    0.000    0.000    0.000    0.000 parse.py:348(_fix_result_transcoding)\n",
      "        1    0.000    0.000    0.000    0.000 parse.py:725(Quoter)\n",
      "        1    0.000    0.000    0.005    0.005 pathlib.py:1(<module>)\n",
      "        1    0.000    0.000    0.000    0.000 pathlib.py:107(_WindowsFlavour)\n",
      "       27    0.000    0.000    0.000    0.000 pathlib.py:119(<genexpr>)\n",
      "       27    0.000    0.000    0.000    0.000 pathlib.py:120(<genexpr>)\n",
      "        1    0.000    0.000    0.000    0.000 pathlib.py:126(<setcomp>)\n",
      "        1    0.000    0.000    0.000    0.000 pathlib.py:127(<setcomp>)\n",
      "        1    0.000    0.000    0.000    0.000 pathlib.py:1444(PosixPath)\n",
      "        1    0.000    0.000    0.000    0.000 pathlib.py:1451(WindowsPath)\n",
      "        1    0.000    0.000    0.000    0.000 pathlib.py:274(_PosixFlavour)\n",
      "        1    0.000    0.000    0.000    0.000 pathlib.py:377(_Accessor)\n",
      "        1    0.000    0.000    0.000    0.000 pathlib.py:382(_NormalAccessor)\n",
      "       10    0.000    0.000    0.000    0.000 pathlib.py:384(_wrap_strfunc)\n",
      "        3    0.000    0.000    0.000    0.000 pathlib.py:390(_wrap_binary_strfunc)\n",
      "        1    0.000    0.000    0.000    0.000 pathlib.py:44(_Flavour)\n",
      "        1    0.000    0.000    0.000    0.000 pathlib.py:467(_Selector)\n",
      "        2    0.000    0.000    0.000    0.000 pathlib.py:48(__init__)\n",
      "        1    0.000    0.000    0.000    0.000 pathlib.py:492(_TerminatingSelector)\n",
      "        1    0.000    0.000    0.000    0.000 pathlib.py:498(_PreciseSelector)\n",
      "        1    0.000    0.000    0.000    0.000 pathlib.py:514(_WildcardSelector)\n",
      "        1    0.000    0.000    0.000    0.000 pathlib.py:537(_RecursiveWildcardSelector)\n",
      "        1    0.000    0.000    0.000    0.000 pathlib.py:574(_PathParents)\n",
      "        1    0.000    0.000    0.000    0.000 pathlib.py:602(PurePath)\n",
      "        1    0.000    0.000    0.000    0.000 pathlib.py:959(PurePosixPath)\n",
      "        1    0.000    0.000    0.000    0.000 pathlib.py:969(PureWindowsPath)\n",
      "        1    0.000    0.000    0.000    0.000 pathlib.py:982(Path)\n",
      "        1    0.000    0.000    0.000    0.000 pickle.py:181(<listcomp>)\n",
      "        1    0.000    0.000    0.000    0.000 pickle.py:184(_Framer)\n",
      "        1    0.000    0.000    0.000    0.000 pickle.py:220(_Unframer)\n",
      "        1    0.000    0.000    0.002    0.002 pickle.py:24(<module>)\n",
      "        1    0.000    0.000    0.000    0.000 pickle.py:345(_Pickler)\n",
      "        1    0.000    0.000    0.000    0.000 pickle.py:64(PickleError)\n",
      "        1    0.000    0.000    0.000    0.000 pickle.py:68(PicklingError)\n",
      "        1    0.000    0.000    0.000    0.000 pickle.py:75(UnpicklingError)\n",
      "        1    0.000    0.000    0.000    0.000 pickle.py:88(_Stop)\n",
      "        1    0.000    0.000    0.000    0.000 pickle.py:986(_Unpickler)\n",
      "        1    0.000    0.000    0.000    0.000 polynomial.py:1606(Polynomial)\n",
      "        1    0.000    0.000    0.000    0.000 polynomial.py:22(RankWarning)\n",
      "        1    0.000    0.000    0.003    0.003 polynomial.py:4(<module>)\n",
      "        1    0.000    0.000    0.001    0.001 polynomial.py:56(<module>)\n",
      "        1    0.000    0.000    0.000    0.000 polynomial.py:939(poly1d)\n",
      "        1    0.000    0.000    0.000    0.000 polyutils.py:45(<module>)\n",
      "        1    0.000    0.000    0.000    0.000 polyutils.py:58(RankWarning)\n",
      "        1    0.000    0.000    0.000    0.000 polyutils.py:62(PolyError)\n",
      "        1    0.000    0.000    0.000    0.000 polyutils.py:66(PolyDomainError)\n",
      "        1    0.000    0.000    0.000    0.000 polyutils.py:79(PolyBase)\n",
      "        1    0.000    0.000    0.000    0.000 posixpath.py:11(<module>)\n",
      "        1    0.000    0.000    0.000    0.000 pprint.py:35(<module>)\n",
      "        1    0.000    0.000    0.000    0.000 pprint.py:72(_safe_key)\n",
      "        1    0.000    0.000    0.000    0.000 pprint.py:98(PrettyPrinter)\n",
      "        1    0.000    0.000    0.005    0.005 py3k.py:4(<module>)\n",
      "        1    0.000    0.000    0.004    0.004 random.py:38(<module>)\n",
      "        1    0.000    0.000    0.000    0.000 random.py:664(SystemRandom)\n",
      "        1    0.000    0.000    0.000    0.000 random.py:71(Random)\n",
      "        1    0.000    0.000    0.000    0.000 random.py:87(__init__)\n",
      "        1    0.000    0.000    0.000    0.000 random.py:96(seed)\n",
      "      102    0.000    0.000    0.000    0.000 re.py:169(match)\n",
      "        4    0.000    0.000    0.000    0.000 re.py:184(sub)\n",
      "       19    0.000    0.000    0.005    0.000 re.py:231(compile)\n",
      "        1    0.000    0.000    0.000    0.000 re.py:249(escape)\n",
      "      125    0.000    0.000    0.006    0.000 re.py:286(_compile)\n",
      "        1    0.000    0.000    0.000    0.000 records.py:217(record)\n",
      "        1    0.000    0.000    0.000    0.000 records.py:304(recarray)\n",
      "        1    0.000    0.000    0.000    0.000 records.py:36(<module>)\n",
      "        1    0.000    0.000    0.000    0.000 records.py:85(format_parser)\n",
      "        1    0.000    0.000    0.006    0.006 result.py:1(<module>)\n",
      "        3    0.000    0.000    0.000    0.000 result.py:12(failfast)\n",
      "        1    0.000    0.000    0.000    0.000 result.py:24(TestResult)\n",
      "        1    0.000    0.000    0.002    0.002 runner.py:1(<module>)\n",
      "        1    0.000    0.000    0.000    0.000 runner.py:120(TextTestRunner)\n",
      "        1    0.000    0.000    0.000    0.000 runner.py:13(_WritelnDecorator)\n",
      "        1    0.000    0.000    0.000    0.000 runner.py:29(TextTestResult)\n",
      "        1    0.000    0.000    0.000    0.000 scimath.py:17(<module>)\n",
      "        2    0.000    0.000    0.000    0.000 shape_base.py:1(<module>)\n",
      "        1    0.000    0.000    0.005    0.005 shutil.py:5(<module>)\n",
      "        1    0.000    0.000    0.000    0.000 shutil.py:55(Error)\n",
      "        1    0.000    0.000    0.000    0.000 shutil.py:58(SameFileError)\n",
      "        1    0.000    0.000    0.000    0.000 shutil.py:61(SpecialFileError)\n",
      "        1    0.000    0.000    0.000    0.000 shutil.py:65(ExecError)\n",
      "        1    0.000    0.000    0.000    0.000 shutil.py:68(ReadError)\n",
      "        1    0.000    0.000    0.000    0.000 shutil.py:71(RegistryError)\n",
      "        1    0.000    0.000    0.000    0.000 signal.py:1(<module>)\n",
      "       28    0.000    0.000    0.000    0.000 signal.py:10(<lambda>)\n",
      "       29    0.000    0.000    0.000    0.000 signal.py:17(<lambda>)\n",
      "        1    0.000    0.000    0.001    0.001 signals.py:1(<module>)\n",
      "        1    0.000    0.000    0.000    0.000 signals.py:9(_InterruptHandler)\n",
      "       84    0.000    0.000    0.000    0.000 sre_compile.py:102(fixup)\n",
      "       29    0.000    0.000    0.001    0.000 sre_compile.py:223(_compile_charset)\n",
      "       29    0.001    0.000    0.001    0.000 sre_compile.py:250(_optimize_charset)\n",
      "       13    0.000    0.000    0.000    0.000 sre_compile.py:376(_mk_bitmap)\n",
      "       13    0.000    0.000    0.000    0.000 sre_compile.py:378(<listcomp>)\n",
      "        2    0.000    0.000    0.000    0.000 sre_compile.py:381(_bytes_to_codes)\n",
      "       30    0.000    0.000    0.000    0.000 sre_compile.py:388(_simple)\n",
      "        1    0.000    0.000    0.000    0.000 sre_compile.py:393(_generate_overlap_table)\n",
      "      9/7    0.000    0.000    0.000    0.000 sre_compile.py:414(_get_literal_prefix)\n",
      "        6    0.000    0.000    0.000    0.000 sre_compile.py:441(_get_charset_prefix)\n",
      "       17    0.000    0.000    0.000    0.000 sre_compile.py:482(_compile_info)\n",
      "       34    0.000    0.000    0.000    0.000 sre_compile.py:539(isstring)\n",
      "       17    0.000    0.000    0.003    0.000 sre_compile.py:542(_code)\n",
      "       17    0.000    0.000    0.005    0.000 sre_compile.py:557(compile)\n",
      "    70/17    0.000    0.000    0.002    0.000 sre_compile.py:64(_compile)\n",
      "       70    0.000    0.000    0.000    0.000 sre_parse.py:111(__init__)\n",
      "       98    0.000    0.000    0.000    0.000 sre_parse.py:159(__len__)\n",
      "      242    0.000    0.000    0.000    0.000 sre_parse.py:163(__getitem__)\n",
      "       30    0.000    0.000    0.000    0.000 sre_parse.py:167(__setitem__)\n",
      "      166    0.000    0.000    0.000    0.000 sre_parse.py:171(append)\n",
      "   111/58    0.000    0.000    0.000    0.000 sre_parse.py:173(getwidth)\n",
      "       17    0.000    0.000    0.000    0.000 sre_parse.py:223(__init__)\n",
      "      695    0.000    0.000    0.000    0.000 sre_parse.py:232(__next)\n",
      "      208    0.000    0.000    0.000    0.000 sre_parse.py:248(match)\n",
      "      550    0.000    0.000    0.000    0.000 sre_parse.py:253(get)\n",
      "        8    0.000    0.000    0.000    0.000 sre_parse.py:266(getuntil)\n",
      "      109    0.000    0.000    0.000    0.000 sre_parse.py:285(tell)\n",
      "        1    0.000    0.000    0.000    0.000 sre_parse.py:287(seek)\n",
      "        8    0.000    0.000    0.000    0.000 sre_parse.py:294(_class_escape)\n",
      "       13    0.000    0.000    0.000    0.000 sre_parse.py:342(_escape)\n",
      "    34/17    0.000    0.000    0.002    0.000 sre_parse.py:407(_parse_sub)\n",
      "    38/17    0.001    0.000    0.002    0.000 sre_parse.py:470(_parse)\n",
      "       17    0.000    0.000    0.000    0.000 sre_parse.py:76(__init__)\n",
      "        3    0.000    0.000    0.000    0.000 sre_parse.py:784(_parse_flags)\n",
      "       56    0.000    0.000    0.000    0.000 sre_parse.py:81(groups)\n",
      "       17    0.000    0.000    0.000    0.000 sre_parse.py:828(fix_flags)\n",
      "       11    0.000    0.000    0.000    0.000 sre_parse.py:84(opengroup)\n",
      "       17    0.000    0.000    0.002    0.000 sre_parse.py:844(parse)\n",
      "       11    0.000    0.000    0.000    0.000 sre_parse.py:96(closegroup)\n",
      "        1    0.000    0.000    0.000    0.000 stride_tricks.py:15(DummyArray)\n",
      "        1    0.000    0.000    0.000    0.000 stride_tricks.py:7(<module>)\n",
      "        1    0.000    0.000    0.001    0.001 string.py:15(<module>)\n",
      "        1    0.000    0.000    0.000    0.000 string.py:173(Formatter)\n",
      "        1    0.000    0.000    0.000    0.000 string.py:55(_TemplateMetaclass)\n",
      "        1    0.000    0.000    0.001    0.001 string.py:65(__init__)\n",
      "        1    0.000    0.000    0.000    0.000 string.py:77(Template)\n",
      "        1    0.000    0.000    0.000    0.000 suite.py:1(<module>)\n",
      "        1    0.000    0.000    0.000    0.000 suite.py:16(BaseTestSuite)\n",
      "        1    0.000    0.000    0.000    0.000 suite.py:270(_ErrorHolder)\n",
      "        1    0.000    0.000    0.000    0.000 suite.py:317(_DebugResult)\n",
      "        1    0.000    0.000    0.000    0.000 suite.py:92(TestSuite)\n",
      "        1    0.000    0.000    0.000    0.000 tempfile.py:136(_RandomNameSequence)\n",
      "        1    0.000    0.000    0.005    0.005 tempfile.py:24(<module>)\n",
      "        1    0.000    0.000    0.000    0.000 tempfile.py:416(_TemporaryFileCloser)\n",
      "        1    0.000    0.000    0.000    0.000 tempfile.py:459(_TemporaryFileWrapper)\n",
      "        1    0.000    0.000    0.000    0.000 tempfile.py:629(SpooledTemporaryFile)\n",
      "        1    0.000    0.000    0.000    0.000 tempfile.py:777(TemporaryDirectory)\n",
      "        4    0.000    0.000    0.000    0.000 textwrap.py:414(dedent)\n",
      "        1    0.000    0.000    0.000    0.000 threading.py:1(<module>)\n",
      "        1    0.000    0.000    0.000    0.000 threading.py:1158(Timer)\n",
      "        1    0.000    0.000    0.000    0.000 threading.py:1188(_MainThread)\n",
      "        1    0.000    0.000    0.000    0.000 threading.py:1190(__init__)\n",
      "        1    0.000    0.000    0.000    0.000 threading.py:1207(_DummyThread)\n",
      "        1    0.000    0.000    0.000    0.000 threading.py:203(Condition)\n",
      "        1    0.000    0.000    0.000    0.000 threading.py:215(__init__)\n",
      "        1    0.000    0.000    0.000    0.000 threading.py:239(__enter__)\n",
      "        1    0.000    0.000    0.000    0.000 threading.py:242(__exit__)\n",
      "        1    0.000    0.000    0.000    0.000 threading.py:254(_is_owned)\n",
      "        1    0.000    0.000    0.000    0.000 threading.py:334(notify)\n",
      "        1    0.000    0.000    0.000    0.000 threading.py:357(notify_all)\n",
      "        1    0.000    0.000    0.000    0.000 threading.py:369(Semaphore)\n",
      "        1    0.000    0.000    0.000    0.000 threading.py:449(BoundedSemaphore)\n",
      "        1    0.000    0.000    0.000    0.000 threading.py:487(Event)\n",
      "        1    0.000    0.000    0.000    0.000 threading.py:498(__init__)\n",
      "        1    0.000    0.000    0.000    0.000 threading.py:512(set)\n",
      "        1    0.000    0.000    0.000    0.000 threading.py:566(Barrier)\n",
      "        1    0.000    0.000    0.000    0.000 threading.py:720(BrokenBarrierError)\n",
      "        1    0.000    0.000    0.000    0.000 threading.py:738(Thread)\n",
      "        2    0.000    0.000    0.000    0.000 threading.py:74(RLock)\n",
      "        1    0.000    0.000    0.000    0.000 threading.py:757(__init__)\n",
      "        1    0.000    0.000    0.000    0.000 threading.py:87(_RLock)\n",
      "        1    0.000    0.000    0.000    0.000 threading.py:890(_set_ident)\n",
      "        1    0.000    0.000    0.000    0.000 threading.py:893(_set_tstate_lock)\n",
      "        1    0.000    0.000    0.000    0.000 token.py:1(<module>)\n",
      "        1    0.000    0.000    0.000    0.000 token.py:74(<dictcomp>)\n",
      "       20    0.000    0.000    0.000    0.000 tokenize.py:112(group)\n",
      "        1    0.000    0.000    0.000    0.000 tokenize.py:113(any)\n",
      "        2    0.000    0.000    0.000    0.000 tokenize.py:114(maybe)\n",
      "        3    0.000    0.000    0.000    0.000 tokenize.py:137(_all_string_prefixes)\n",
      "       24    0.000    0.000    0.000    0.000 tokenize.py:148(<listcomp>)\n",
      "        1    0.000    0.000    0.003    0.003 tokenize.py:21(<module>)\n",
      "        1    0.000    0.000    0.000    0.000 tokenize.py:217(TokenError)\n",
      "        1    0.000    0.000    0.000    0.000 tokenize.py:219(StopTokenizing)\n",
      "        1    0.000    0.000    0.000    0.000 tokenize.py:222(Untokenizer)\n",
      "        1    0.000    0.000    0.000    0.000 tokenize.py:99(TokenInfo)\n",
      "        1    0.000    0.000    0.004    0.004 traceback.py:1(<module>)\n",
      "        1    0.000    0.000    0.000    0.000 traceback.py:223(FrameSummary)\n",
      "        1    0.000    0.000    0.000    0.000 traceback.py:310(StackSummary)\n",
      "        1    0.000    0.000    0.000    0.000 traceback.py:426(TracebackException)\n",
      "        1    0.000    0.000    0.000    0.000 twodim_base.py:3(<module>)\n",
      "        1    0.000    0.000    0.074    0.074 type_check.py:3(<module>)\n",
      "       74    0.000    0.000    0.000    0.000 types.py:135(__get__)\n",
      "        3    0.000    0.000    0.000    0.000 ufunclike.py:14(_deprecate_out_named_y)\n",
      "        1    0.000    0.000    0.000    0.000 ufunclike.py:5(<module>)\n",
      "        1    0.000    0.000    0.001    0.001 util.py:1(<module>)\n",
      "        1    0.000    0.000    0.001    0.001 utils.py:1(<module>)\n",
      "        3    0.000    0.000    0.000    0.000 utils.py:118(deprecate)\n",
      "        1    0.000    0.000    0.000    0.000 utils.py:1590(WarningMessage)\n",
      "        1    0.000    0.000    0.000    0.000 utils.py:1623(WarningManager)\n",
      "        1    0.000    0.000    0.000    0.000 utils.py:1850(IgnoreException)\n",
      "        1    0.000    0.000    0.000    0.000 utils.py:1891(clear_and_catch_warnings)\n",
      "        1    0.000    0.000    0.000    0.000 utils.py:1956(suppress_warnings)\n",
      "        1    0.000    0.000    0.013    0.013 utils.py:4(<module>)\n",
      "        1    0.000    0.000    0.000    0.000 utils.py:42(KnownFailureException)\n",
      "        1    0.000    0.000    0.000    0.000 utils.py:5(<module>)\n",
      "        3    0.000    0.000    0.000    0.000 utils.py:52(_set_function_name)\n",
      "        1    0.000    0.000    0.000    0.000 utils.py:57(_Deprecate)\n",
      "        3    0.000    0.000    0.000    0.000 utils.py:69(__init__)\n",
      "        3    0.000    0.000    0.000    0.000 utils.py:74(__call__)\n",
      "        1    0.000    0.000    0.000    0.000 utils.py:997(SafeEval)\n",
      "        1    0.000    0.000    0.000    0.000 version.py:5(<module>)\n",
      "        4    0.000    0.000    0.001    0.000 warnings.py:119(filterwarnings)\n",
      "        1    0.000    0.000    0.000    0.000 warnings.py:143(simplefilter)\n",
      "        5    0.000    0.000    0.000    0.000 warnings.py:159(_add_filter)\n",
      "        1    0.000    0.000    0.000    0.000 warnings.py:428(__init__)\n",
      "        1    0.000    0.000    0.000    0.000 warnings.py:449(__enter__)\n",
      "        1    0.000    0.000    0.000    0.000 warnings.py:468(__exit__)\n",
      "        1    0.000    0.000    0.000    0.000 weakref.py:102(__init__)\n",
      "        1    0.000    0.000    0.000    0.000 weakref.py:288(update)\n",
      "        1    0.000    0.000    0.000    0.000 weakref.py:354(__init__)\n",
      "       47    0.000    0.000    0.000    0.000 {built-in method __new__ of type object at 0x000000005495C3F0}\n",
      "        4    0.000    0.000    0.000    0.000 {built-in method _codecs.charmap_encode}\n",
      "        1    0.000    0.000    0.000    0.000 {built-in method _ctypes.LoadLibrary}\n",
      "        2    0.000    0.000    0.000    0.000 {built-in method _ctypes.POINTER}\n",
      "       50    0.000    0.000    0.000    0.000 {built-in method _ctypes.sizeof}\n",
      "        1    0.000    0.000    0.000    0.000 {built-in method _hashlib.openssl_md5}\n",
      "        1    0.000    0.000    0.000    0.000 {built-in method _hashlib.openssl_sha1}\n",
      "        1    0.000    0.000    0.000    0.000 {built-in method _hashlib.openssl_sha224}\n",
      "        1    0.000    0.000    0.000    0.000 {built-in method _hashlib.openssl_sha256}\n",
      "        1    0.000    0.000    0.000    0.000 {built-in method _hashlib.openssl_sha384}\n",
      "        1    0.000    0.000    0.000    0.000 {built-in method _hashlib.openssl_sha512}\n",
      "      125    0.000    0.000    0.000    0.000 {built-in method _imp._fix_co_filename}\n",
      "      964    0.000    0.000    0.000    0.000 {built-in method _imp.acquire_lock}\n",
      "       11    0.001    0.000    0.001    0.000 {built-in method _imp.create_builtin}\n",
      "    14/13    0.010    0.001    0.013    0.001 {built-in method _imp.create_dynamic}\n",
      "       11    0.000    0.000    0.000    0.000 {built-in method _imp.exec_builtin}\n",
      "       14    0.000    0.000    0.000    0.000 {built-in method _imp.exec_dynamic}\n",
      "       54    0.000    0.000    0.000    0.000 {built-in method _imp.is_builtin}\n",
      "      146    0.000    0.000    0.000    0.000 {built-in method _imp.is_frozen}\n",
      "      964    0.000    0.000    0.000    0.000 {built-in method _imp.release_lock}\n",
      "       17    0.000    0.000    0.000    0.000 {built-in method _sre.compile}\n",
      "      164    0.000    0.000    0.000    0.000 {built-in method _sre.getlower}\n",
      "       18    0.000    0.000    0.000    0.000 {built-in method _struct.calcsize}\n",
      "        1    0.000    0.000    0.000    0.000 {built-in method _thread._set_sentinel}\n",
      "      327    0.000    0.000    0.000    0.000 {built-in method _thread.allocate_lock}\n",
      "      709    0.000    0.000    0.000    0.000 {built-in method _thread.get_ident}\n",
      "        7    0.000    0.000    0.000    0.000 {built-in method _warnings._filters_mutated}\n",
      "        1    0.000    0.000    0.000    0.000 {built-in method atexit.register}\n",
      "  321/319    0.005    0.000    0.009    0.000 {built-in method builtins.__build_class__}\n",
      "    323/7    0.000    0.000    0.114    0.016 {built-in method builtins.__import__}\n",
      "       72    0.000    0.000    0.000    0.000 {built-in method builtins.abs}\n",
      "      152    0.000    0.000    0.000    0.000 {built-in method builtins.any}\n",
      "        2    0.000    0.000    0.000    0.000 {built-in method builtins.callable}\n",
      "      308    0.000    0.000    0.000    0.000 {built-in method builtins.chr}\n",
      "        1    0.000    0.000    0.000    0.000 {built-in method builtins.dir}\n",
      "       45    0.000    0.000    0.000    0.000 {built-in method builtins.divmod}\n",
      "    135/1    0.003    0.000    0.491    0.491 {built-in method builtins.exec}\n",
      "     2169    0.001    0.000    0.001    0.000 {built-in method builtins.getattr}\n",
      "      362    0.000    0.000    0.000    0.000 {built-in method builtins.globals}\n",
      "     2406    0.001    0.000    0.001    0.000 {built-in method builtins.hasattr}\n",
      "     3182    0.000    0.000    0.000    0.000 {built-in method builtins.isinstance}\n",
      "  525/491    0.000    0.000    0.000    0.000 {built-in method builtins.issubclass}\n",
      "1375/1343    0.000    0.000    0.000    0.000 {built-in method builtins.len}\n",
      "      106    0.000    0.000    0.000    0.000 {built-in method builtins.max}\n",
      "      259    0.000    0.000    0.000    0.000 {built-in method builtins.min}\n",
      "      191    0.000    0.000    0.000    0.000 {built-in method builtins.ord}\n",
      "        1    0.000    0.000    0.000    0.000 {built-in method builtins.print}\n",
      "       69    0.000    0.000    0.000    0.000 {built-in method builtins.repr}\n",
      "        9    0.000    0.000    0.000    0.000 {built-in method builtins.round}\n",
      "      254    0.000    0.000    0.000    0.000 {built-in method builtins.setattr}\n",
      "        2    0.000    0.000    0.000    0.000 {built-in method builtins.vars}\n",
      "      250    0.000    0.000    0.000    0.000 {built-in method from_bytes}\n",
      "      125    0.013    0.000    0.013    0.000 {built-in method marshal.loads}\n",
      "        1    0.000    0.000    0.000    0.000 {built-in method math.exp}\n",
      "        2    0.000    0.000    0.000    0.000 {built-in method math.log}\n",
      "        1    0.000    0.000    0.000    0.000 {built-in method math.sqrt}\n",
      "        1    0.000    0.000    0.000    0.000 {built-in method nt._isdir}\n",
      "      436    0.000    0.000    0.000    0.000 {built-in method nt.fspath}\n",
      "       43    0.000    0.000    0.000    0.000 {built-in method nt.getcwd}\n",
      "       17    0.001    0.000    0.001    0.000 {built-in method nt.listdir}\n",
      "        5    0.000    0.000    0.000    0.000 {built-in method nt.putenv}\n",
      "      610    0.024    0.000    0.024    0.000 {built-in method nt.stat}\n",
      "      271    0.000    0.000    0.000    0.000 {built-in method numpy.core.multiarray.add_docstring}\n",
      "      276    0.000    0.000    0.000    0.000 {built-in method numpy.core.multiarray.array}\n",
      "       21    0.000    0.000    0.000    0.000 {built-in method numpy.core.multiarray.empty}\n",
      "        2    0.000    0.000    0.000    0.000 {built-in method numpy.core.multiarray.set_string_function}\n",
      "        1    0.000    0.000    0.000    0.000 {built-in method numpy.core.multiarray.set_typeDict}\n",
      "       14    0.000    0.000    0.000    0.000 {built-in method numpy.core.umath.geterrobj}\n",
      "        7    0.000    0.000    0.000    0.000 {built-in method numpy.core.umath.seterrobj}\n",
      "       42    0.000    0.000    0.000    0.000 {built-in method sys._getframe}\n",
      "        1    0.000    0.000    0.000    0.000 {built-in method sys.getwindowsversion}\n",
      "        1    0.000    0.000    0.000    0.000 {built-in method time.time}\n",
      "        1    0.000    0.000    0.000    0.000 {function Random.seed at 0x000001D415ADAE18}\n",
      "       41    0.000    0.000    0.000    0.000 {method '__contains__' of 'frozenset' objects}\n",
      "        1    0.000    0.000    0.000    0.000 {method '__enter__' of '_thread.lock' objects}\n",
      "        1    0.000    0.000    0.000    0.000 {method '__exit__' of '_thread.lock' objects}\n",
      "       21    0.000    0.000    0.000    0.000 {method '__subclasses__' of 'type' objects}\n",
      "       21    0.000    0.000    0.000    0.000 {method '__subclasshook__' of 'object' objects}\n",
      "        1    0.000    0.000    0.000    0.000 {method 'acquire' of '_thread.RLock' objects}\n",
      "        2    0.000    0.000    0.000    0.000 {method 'acquire' of '_thread.lock' objects}\n",
      "      544    0.000    0.000    0.000    0.000 {method 'add' of 'set' objects}\n",
      "      200    0.000    0.000    0.001    0.000 {method 'all' of 'numpy.ndarray' objects}\n",
      "     1693    0.000    0.000    0.000    0.000 {method 'append' of 'list' objects}\n",
      "      100    0.000    0.000    0.000    0.000 {method 'astype' of 'numpy.ndarray' objects}\n",
      "       19    0.000    0.000    0.000    0.000 {method 'bit_length' of 'int' objects}\n",
      "        2    0.000    0.000    0.000    0.000 {method 'cast' of 'memoryview' objects}\n",
      "        3    0.000    0.000    0.000    0.000 {method 'clear' of 'dict' objects}\n",
      "       30    0.000    0.000    0.000    0.000 {method 'copy' of 'numpy.ndarray' objects}\n",
      "        1    0.000    0.000    0.000    0.000 {method 'disable' of '_lsprof.Profiler' objects}\n",
      "      153    0.000    0.000    0.000    0.000 {method 'endswith' of 'str' objects}\n",
      "       86    0.000    0.000    0.000    0.000 {method 'extend' of 'list' objects}\n",
      "      111    0.000    0.000    0.000    0.000 {method 'find' of 'bytearray' objects}\n",
      "        1    0.000    0.000    0.000    0.000 {method 'find' of 'str' objects}\n",
      "        4    0.000    0.000    0.000    0.000 {method 'findall' of '_sre.SRE_Pattern' objects}\n",
      "      461    0.000    0.000    0.000    0.000 {method 'format' of 'str' objects}\n",
      "      629    0.000    0.000    0.000    0.000 {method 'get' of 'dict' objects}\n",
      "       25    0.000    0.000    0.000    0.000 {method 'get' of 'mappingproxy' objects}\n",
      "        5    0.000    0.000    0.000    0.000 {method 'insert' of 'list' objects}\n",
      "       49    0.000    0.000    0.000    0.000 {method 'isidentifier' of 'str' objects}\n",
      "       28    0.000    0.000    0.000    0.000 {method 'isupper' of 'str' objects}\n",
      "       11    0.000    0.000    0.000    0.000 {method 'items' of 'collections.OrderedDict' objects}\n",
      "       37    0.000    0.000    0.000    0.000 {method 'items' of 'dict' objects}\n",
      "     1878    0.000    0.000    0.001    0.000 {method 'join' of 'str' objects}\n",
      "       19    0.000    0.000    0.000    0.000 {method 'keys' of 'dict' objects}\n",
      "      415    0.000    0.000    0.000    0.000 {method 'lower' of 'str' objects}\n",
      "      102    0.000    0.000    0.000    0.000 {method 'match' of '_sre.SRE_Pattern' objects}\n",
      "      100    0.000    0.000    0.001    0.000 {method 'max' of 'numpy.ndarray' objects}\n",
      "        2    0.000    0.000    0.000    0.000 {method 'mro' of 'type' objects}\n",
      "      231    0.000    0.000    0.000    0.000 {method 'partition' of 'str' objects}\n",
      "       41    0.000    0.000    0.000    0.000 {method 'pop' of 'dict' objects}\n",
      "      100    0.027    0.000    0.027    0.000 {method 'randn' of 'mtrand.RandomState' objects}\n",
      "      125    0.005    0.000    0.005    0.000 {method 'read' of '_io.FileIO' objects}\n",
      "      301    0.001    0.000    0.001    0.000 {method 'reduce' of 'numpy.ufunc' objects}\n",
      "        1    0.000    0.000    0.000    0.000 {method 'release' of '_thread.RLock' objects}\n",
      "        7    0.000    0.000    0.000    0.000 {method 'remove' of 'list' objects}\n",
      "       21    0.000    0.000    0.000    0.000 {method 'remove' of 'set' objects}\n",
      "       42    0.000    0.000    0.000    0.000 {method 'replace' of 'str' objects}\n",
      "     1026    0.000    0.000    0.000    0.000 {method 'rpartition' of 'str' objects}\n",
      "      250    0.000    0.000    0.000    0.000 {method 'rsplit' of 'str' objects}\n",
      "     3143    0.000    0.000    0.000    0.000 {method 'rstrip' of 'str' objects}\n",
      "        4    0.000    0.000    0.000    0.000 {method 'setdefault' of 'dict' objects}\n",
      "        4    0.000    0.000    0.000    0.000 {method 'setter' of 'property' objects}\n",
      "        6    0.000    0.000    0.000    0.000 {method 'sort' of 'list' objects}\n",
      "        9    0.000    0.000    0.000    0.000 {method 'split' of 'str' objects}\n",
      "      309    0.000    0.000    0.000    0.000 {method 'startswith' of 'str' objects}\n",
      "      271    0.000    0.000    0.000    0.000 {method 'strip' of 'str' objects}\n",
      "        8    0.000    0.000    0.000    0.000 {method 'sub' of '_sre.SRE_Pattern' objects}\n",
      "        2    0.000    0.000    0.000    0.000 {method 'tolist' of 'memoryview' objects}\n",
      "       13    0.000    0.000    0.000    0.000 {method 'translate' of 'bytearray' objects}\n",
      "      110    0.000    0.000    0.000    0.000 {method 'translate' of 'str' objects}\n",
      "        1    0.000    0.000    0.000    0.000 {method 'union' of 'set' objects}\n",
      "       57    0.000    0.000    0.000    0.000 {method 'update' of 'dict' objects}\n",
      "       46    0.000    0.000    0.000    0.000 {method 'upper' of 'str' objects}\n",
      "        1    0.000    0.000    0.000    0.000 {method 'values' of 'dict' objects}\n",
      "        1    0.000    0.000    0.000    0.000 {method 'view' of 'numpy.ndarray' objects}\n",
      "\n",
      "\n"
     ]
    }
   ],
   "source": [
    "!python -m cProfile examples/cprof_example.py"
   ]
  },
  {
   "cell_type": "markdown",
   "metadata": {},
   "source": [
    "#### Other than command line usage, cProfile can be used programmatically to profile arbitrary blocks of code without running a new process.\n",
    "#### IPython has convinient interface to use '%prun' command and '-p' option to '%run'.\n",
    "#### %prun takes \"command-line options\" as cProfile but will profile arbitrary Python statment instead of whole '.py' file.\n",
    "#### Calling '%prun -p -s cumulative cprof_example.py' has same effect as command-line approach, except you never have to leave IPython.\n",
    "#### In Jupyter notebook, you can use '%%prun' to profile entire code block. It pops up a seperate window with profile output. This is useful for getting quick answers on code performance.\n",
    "#### There are other tools like SnakeViz that make these profiles easier to understand when using IPython or Jupyter. It creates interactive visualization using d3.js."
   ]
  },
  {
   "cell_type": "code",
   "execution_count": 75,
   "metadata": {},
   "outputs": [
    {
     "name": "stdout",
     "output_type": "stream",
     "text": [
      " "
     ]
    }
   ],
   "source": [
    "%prun -l 7 -s cumulative run_experiment()"
   ]
  },
  {
   "cell_type": "code",
   "execution_count": 76,
   "metadata": {},
   "outputs": [],
   "source": [
    "# Output shown in seperate window.\n",
    "# 3804 function calls in 0.465 seconds\n",
    "\n",
    "#    Ordered by: cumulative time\n",
    "#    List reduced from 31 to 7 due to restriction <7>\n",
    "\n",
    "#    ncalls  tottime  percall  cumtime  percall filename:lineno(function)\n",
    "#         1    0.000    0.000    0.465    0.465 {built-in method builtins.exec}\n",
    "#         1    0.000    0.000    0.465    0.465 <string>:1(<module>)\n",
    "#         1    0.001    0.001    0.465    0.465 <ipython-input-71-963ae22297ec>:4(run_experiment)\n",
    "#       100    0.421    0.004    0.429    0.004 linalg.py:834(eigvals)\n",
    "#       100    0.034    0.000    0.034    0.000 {method 'randn' of 'mtrand.RandomState' objects}\n",
    "#       300    0.003    0.000    0.003    0.000 {method 'reduce' of 'numpy.ufunc' objects}\n",
    "#       200    0.000    0.000    0.002    0.000 {method 'all' of 'numpy.ndarray' objects}"
   ]
  },
  {
   "cell_type": "markdown",
   "metadata": {},
   "source": [
    "### Profiling a Function Line by Line\n",
    "#### In some cases the information obtained from '%prun' may not tell entire story about function's execution time, or may be so complex that the results are hard to interpret.\n",
    "#### In such cases, there is a library 'line_profiler' (obtainable via PyPI or other package management tools), which contains an IPython extension enabling new magic function '%lprun'. This function computes line-by-line profiling of one or more function.\n",
    "#### You can enable this extension by modifying your IPython configuration with following line. "
   ]
  },
  {
   "cell_type": "code",
   "execution_count": 79,
   "metadata": {},
   "outputs": [],
   "source": [
    "# c.TerminalIPythonApp.extensions = ['line_profile']\n",
    "\n",
    "# Or run the following command\n",
    "%load_ext line_profiler"
   ]
  },
  {
   "cell_type": "markdown",
   "metadata": {},
   "source": [
    "#### 'line_profiler' can be used programatically but is most powerful when used interactively in IPython.\n",
    "#### Lets assume you have a module with following code doing NumPy operations. To understand its performance, '%prun' provides output that is not very clear.\n",
    "#### But with line_profiler IPython activated, a new command '%lprun' is available. The only difference is that we must instruct which function or functions we wish to profile. eg - %lprun -f func1 -f func2 statement_to_profile"
   ]
  },
  {
   "cell_type": "code",
   "execution_count": 81,
   "metadata": {},
   "outputs": [],
   "source": [
    "# Contents of 'prof_mod'\n",
    "from numpy.random import randn\n",
    "\n",
    "def add_and_sum(x, y):\n",
    "    added = x + y\n",
    "    summed = added.sum(axis=1)\n",
    "    return summed\n",
    "\n",
    "def call_function():\n",
    "    x = randn(1000, 1000)\n",
    "    y = randn(1000, 1000)\n",
    "    return add_and_sum(x, y)"
   ]
  },
  {
   "cell_type": "code",
   "execution_count": 82,
   "metadata": {},
   "outputs": [],
   "source": [
    "%run examples/prof_mod.py"
   ]
  },
  {
   "cell_type": "code",
   "execution_count": 83,
   "metadata": {},
   "outputs": [
    {
     "name": "stdout",
     "output_type": "stream",
     "text": [
      " "
     ]
    }
   ],
   "source": [
    "x = randn(3000, 3000)\n",
    "y = randn(3000, 3000)\n",
    "\n",
    "%prun add_and_sum(x, y)"
   ]
  },
  {
   "cell_type": "code",
   "execution_count": 84,
   "metadata": {},
   "outputs": [],
   "source": [
    "# Output of %prun:\n",
    "# 7 function calls in 0.080 seconds\n",
    "\n",
    "#    Ordered by: internal time\n",
    "\n",
    "#    ncalls  tottime  percall  cumtime  percall filename:lineno(function)\n",
    "#         1    0.062    0.062    0.073    0.073 prof_mod.py:3(add_and_sum)\n",
    "#         1    0.011    0.011    0.011    0.011 {method 'reduce' of 'numpy.ufunc' objects}\n",
    "#         1    0.006    0.006    0.079    0.079 <string>:1(<module>)\n",
    "#         1    0.000    0.000    0.011    0.011 {method 'sum' of 'numpy.ndarray' objects}\n",
    "#         1    0.000    0.000    0.080    0.080 {built-in method builtins.exec}\n",
    "#         1    0.000    0.000    0.011    0.011 _methods.py:31(_sum)\n",
    "#         1    0.000    0.000    0.000    0.000 {method 'disable' of '_lsprof.Profiler' objects}"
   ]
  },
  {
   "cell_type": "code",
   "execution_count": 85,
   "metadata": {},
   "outputs": [],
   "source": [
    "# Now using line_profiler\n",
    "%lprun -f add_and_sum add_and_sum(x, y)"
   ]
  },
  {
   "cell_type": "code",
   "execution_count": 86,
   "metadata": {},
   "outputs": [],
   "source": [
    "# %lprun output:\n",
    "# Timer unit: 3.64672e-07 s\n",
    "\n",
    "# Total time: 0.0351734 s\n",
    "# File: C:\\Users\\adity\\PythonForDataAnalysis\\examples\\prof_mod.py\n",
    "# Function: add_and_sum at line 3\n",
    "\n",
    "# Line #      Hits         Time  Per Hit   % Time  Line Contents\n",
    "# ==============================================================\n",
    "#      3                                           def add_and_sum(x, y):\n",
    "#      4         1      67057.0  67057.0     69.5      added = x + y\n",
    "#      5         1      29391.0  29391.0     30.5      summed = added.sum(axis=1)\n",
    "#      6         1          4.0      4.0      0.0      return summed"
   ]
  },
  {
   "cell_type": "markdown",
   "metadata": {},
   "source": [
    "#### The output of %lprun is much more easier to interpret than %prun.\n",
    "#### We can even profile preceeding module code (eg - 'call_function') and profile that as well as the function being called (eg - 'add_and_sum') to get full picture of performance.\n",
    "#### It is a good rule of thumb to use '%prun' for \"macro\" profiling and '%lprun' for \"micro\" profiling.\n",
    "#### NOTE - The reason we explicitly specify names of functions that we want to profile with %lprun is that the overhead of 'tracing' the execution time of each line is substantial. Tracing functions that are not of interest has potential to significantly alter the profile result."
   ]
  },
  {
   "cell_type": "code",
   "execution_count": 88,
   "metadata": {},
   "outputs": [],
   "source": [
    "%lprun -f add_and_sum -f call_function call_function()"
   ]
  },
  {
   "cell_type": "code",
   "execution_count": 89,
   "metadata": {},
   "outputs": [],
   "source": [
    "# Output of %lprun:\n",
    "# Timer unit: 3.64672e-07 s\n",
    "\n",
    "# Total time: 0.00391694 s\n",
    "# File: C:\\Users\\adity\\PythonForDataAnalysis\\examples\\prof_mod.py\n",
    "# Function: add_and_sum at line 3\n",
    "\n",
    "# Line #      Hits         Time  Per Hit   % Time  Line Contents\n",
    "# ==============================================================\n",
    "#      3                                           def add_and_sum(x, y):\n",
    "#      4         1       7101.0   7101.0     66.1      added = x + y\n",
    "#      5         1       3636.0   3636.0     33.9      summed = added.sum(axis=1)\n",
    "#      6         1          4.0      4.0      0.0      return summed\n",
    "\n",
    "# Total time: 0.0620351 s\n",
    "# File: C:\\Users\\adity\\PythonForDataAnalysis\\examples\\prof_mod.py\n",
    "# Function: call_function at line 8\n",
    "\n",
    "# Line #      Hits         Time  Per Hit   % Time  Line Contents\n",
    "# ==============================================================\n",
    "#      8                                           def call_function():\n",
    "#      9         1      84061.0  84061.0     49.4      x = randn(1000, 1000)\n",
    "#     10         1      72992.0  72992.0     42.9      y = randn(1000, 1000)\n",
    "#     11         1      13059.0  13059.0      7.7      return add_and_sum(x, y)"
   ]
  },
  {
   "cell_type": "markdown",
   "metadata": {},
   "source": [
    "## Tips for Productive Code Development Using IPython\n",
    "#### Writing code in a way that makes iteasy to develop, debug and ultimately use may be a paradigm shift for many users.\n",
    "#### Procedural details like code reloading may require some adjustment as well as code style concerns.\n",
    "#### Implementing most of these strategies is more of an art than science and will require some experimentation before being effective.\n",
    "#### Usually, software designed with IPython is easier to work with than code intended to be run from standalone command-line. Especially when diagnosing an error or debugging"
   ]
  },
  {
   "cell_type": "markdown",
   "metadata": {},
   "source": [
    "### Reloading Module Dependencies\n",
    "#### When we import a module, the code in that module is executed and its variables, functions and imports are stored in newly created module namespace.\n",
    "#### The potential difficulty in interactive IPython code comes when run a script that depends on a module where you have already made changes. Because the old version of that module is the one being used.\n",
    "#### This is Python's 'load once' module system. To cope with this, you have 2 options.\n",
    "#### First, use 'reload' function in 'importlib' module in the standard library.\n",
    "#### But if the dependencies go deeper, it might be a bit tricky to insert usage of 'reload' all over the place.\n",
    "#### For this, IPython has 'dreload' functionfor 'deep' (recursive) reloading. It will attempt to reload the library as well as all of its dependencies. eg - 'dreload(smoe_lib)'."
   ]
  },
  {
   "cell_type": "code",
   "execution_count": 92,
   "metadata": {},
   "outputs": [
    {
     "data": {
      "text/plain": [
       "'\\nimport some_lib\\nimport importlib\\n\\nimportlib.reload(some_lib)\\n'"
      ]
     },
     "execution_count": 92,
     "metadata": {},
     "output_type": "execute_result"
    }
   ],
   "source": [
    "'''\n",
    "import some_lib\n",
    "\n",
    "x = 5\n",
    "y = [1, 2, 3, 4]\n",
    "\n",
    "result = some_lib.get_answer(x, y)\n",
    "'''\n",
    "# After changing 'some_lib'\n",
    "'''\n",
    "import some_lib\n",
    "import importlib\n",
    "\n",
    "importlib.reload(some_lib)\n",
    "'''"
   ]
  },
  {
   "cell_type": "markdown",
   "metadata": {},
   "source": [
    "### Code Design Tips\n",
    "#### There are no simple recipes for good design, but there are some high-level principles that are effective in work."
   ]
  },
  {
   "cell_type": "markdown",
   "metadata": {},
   "source": [
    "#### Keep Relevant Objects and Data Alive\n",
    "#### It is quite common to see a program run from command-line with structure shown below.\n",
    "#### But if you run the same code in IPython, the results or objects defined in 'main' function will not be accessible by the IPython shell.\n",
    "#### A better way is to have whatever code in main execute directly in the module's global namespace. Or \"if __name__ == '__main__':\" block, if you want module to be importable.\n",
    "#### This is equivalent to defining top-level variables in cells in Jupyter notebook."
   ]
  },
  {
   "cell_type": "code",
   "execution_count": 95,
   "metadata": {},
   "outputs": [
    {
     "data": {
      "text/plain": [
       "\"\\nfrom my_function import g\\n\\ndef f(x, y):\\n    return g(x + y)\\n\\ndef main():\\n    x = 6\\n    y = 7.5\\n    result = x + y\\n    \\nif __name__ == '__main__':\\n    main()\\n\""
      ]
     },
     "execution_count": 95,
     "metadata": {},
     "output_type": "execute_result"
    }
   ],
   "source": [
    "'''\n",
    "from my_function import g\n",
    "\n",
    "def f(x, y):\n",
    "    return g(x + y)\n",
    "\n",
    "def main():\n",
    "    x = 6\n",
    "    y = 7.5\n",
    "    result = x + y\n",
    "    \n",
    "if __name__ == '__main__':\n",
    "    main()\n",
    "'''"
   ]
  },
  {
   "cell_type": "markdown",
   "metadata": {},
   "source": [
    "#### Flat is Better than Nested\n",
    "#### Deeply nested code makes it difficult during testing or debugging a function to reach the code of interest.\n",
    "#### The idea 'flat is better than nested' applies generally to develop code for interactive use as well.\n",
    "#### Making functions decoupled and modular as possible makes them easier to test, debug and use interactively."
   ]
  },
  {
   "cell_type": "markdown",
   "metadata": {},
   "source": [
    "#### Overcome Fear of Longer Files\n",
    "#### In other languages (eg - Java), we are advised to keep files short. Long length is usally bad 'code smell', indicating refactoring or reorganizing may be necessary.\n",
    "#### But while working in IPython, working with 10 small but interconnected files is likely to cause you more headaches than 2 or 3 longer files.\n",
    "#### Fewer files means fewer modules to reload and less jumping between files while editing.\n",
    "#### Obviously, putting all your code in a single mostrous file also does not make sense and should be avoided.\n",
    "#### Each module should be internally cohesive and be as obvious as possible while finding methods and classes for each area of functionality."
   ]
  },
  {
   "cell_type": "markdown",
   "metadata": {},
   "source": [
    "## Advanced IPython Features\n",
    "#### Making full use of IPython system may lead to writing code in different way or dig into the configuration"
   ]
  },
  {
   "cell_type": "markdown",
   "metadata": {},
   "source": [
    "### Making your Classes IPython-Friendly\n",
    "#### IPython makes every effort to display console-friendly string representations of objects taht you inspect.\n",
    "#### For many objects (eg - dicts, lists, tuples) the built-in 'pprint' module is used for nice formatting.\n",
    "#### But for user-defined classes, you have to generate desired string output yourself.\n",
    "#### For a simple class like the one shown below, the default output is not very nice.\n",
    "#### IPython takes string returned by '__repr__' magic method by doing 'output = repr(obj)' and prints that to the console.\n",
    "#### So, we can simply add a '__repr__' method to get more helpful output."
   ]
  },
  {
   "cell_type": "code",
   "execution_count": 100,
   "metadata": {},
   "outputs": [],
   "source": [
    "# General class\n",
    "class Message:\n",
    "    def __init__(self, msg):\n",
    "        self.msg = msg\n",
    "        "
   ]
  },
  {
   "cell_type": "code",
   "execution_count": 101,
   "metadata": {},
   "outputs": [
    {
     "data": {
      "text/plain": [
       "<__main__.Message at 0x1f080134278>"
      ]
     },
     "execution_count": 101,
     "metadata": {},
     "output_type": "execute_result"
    }
   ],
   "source": [
    "# Print of the class object\n",
    "x = Message('I have a secret')\n",
    "x"
   ]
  },
  {
   "cell_type": "code",
   "execution_count": 104,
   "metadata": {},
   "outputs": [],
   "source": [
    "# Class with defined output\n",
    "class Message:\n",
    "    def __init__(self, msg):\n",
    "        self.msg = msg\n",
    "        \n",
    "    def __repr__(self):\n",
    "        return('Message:%s' % self.msg)"
   ]
  },
  {
   "cell_type": "code",
   "execution_count": 105,
   "metadata": {},
   "outputs": [
    {
     "data": {
      "text/plain": [
       "Message:I have a Secret"
      ]
     },
     "execution_count": 105,
     "metadata": {},
     "output_type": "execute_result"
    }
   ],
   "source": [
    "x = Message('I have a Secret')\n",
    "x"
   ]
  },
  {
   "cell_type": "markdown",
   "metadata": {},
   "source": [
    "### Profiles and Configuration\n",
    "#### Most aspects of appearence and behavior of IPython and Jupyter environments are configurable through configuration systems.\n",
    "#### Some things you can change via configuiration are:\n",
    "####     1. Change color scheme\n",
    "####     2. Change how input and output prompts look.\n",
    "####     3. Execute arbitrary list of Python statements.(eg - imports that you use all times or something you want to happen each time you launch IPython)\n",
    "####     4. Enables always-on IPython extensions. eg - '%lprun' in line profiler\n",
    "####     5. Enabling Jupyter extensions\n",
    "####     6. Define your own magics or system aliases.\n",
    "#### Configurations for IPython shell are specified in special 'ipython_config.py' files, found in 'ipython/' directory in USer home directory.\n",
    "#### Configurations are performed based on particular profile. When you start IPython normally, you by default load up the 'default profile' stored in the 'profile_default' directory.\n",
    "#### The configuration file for me is present in : \"C:\\Users\\adity\\.ipython\\profile_default\"\n",
    "#### To initialize this file on your system, run the below command.    "
   ]
  },
  {
   "cell_type": "code",
   "execution_count": 107,
   "metadata": {},
   "outputs": [
    {
     "data": {
      "text/plain": [
       "'\\nipython profile create\\n'"
      ]
     },
     "execution_count": 107,
     "metadata": {},
     "output_type": "execute_result"
    }
   ],
   "source": [
    "'''\n",
    "ipython profile create\n",
    "'''"
   ]
  },
  {
   "cell_type": "markdown",
   "metadata": {},
   "source": [
    "#### We will avoid the details of the file contents. It does contain comments describing what each configuration option is for, which we can tinker and customize.\n",
    "#### Another useful feature is the possibility to have multipleprofiles. Creating a seperate profile for having a tailored IPython configuration for a specific application or project.\n",
    "#### We can create another profile by using the command - 'ipython profile create profile_name'\n",
    "#### Once done, you can edit the config files in the newly created 'profile_new_project' directory and launch ipython as shown below."
   ]
  },
  {
   "cell_type": "code",
   "execution_count": 109,
   "metadata": {},
   "outputs": [
    {
     "data": {
      "text/plain": [
       "'\\nipython --profile=new_project\\n'"
      ]
     },
     "execution_count": 109,
     "metadata": {},
     "output_type": "execute_result"
    }
   ],
   "source": [
    "# Creating new profile\n",
    "'''\n",
    "ipython profile create new_project\n",
    "'''\n",
    "# Launching IPython from console\n",
    "'''\n",
    "ipython --profile=new_project\n",
    "'''"
   ]
  },
  {
   "cell_type": "markdown",
   "metadata": {},
   "source": [
    "#### Configuration for Jupyter is a bit different as you may use it for other languages as well.\n",
    "#### To create config file in Jupyter, run the below command. This will create a default config file to '.jupyter/jupyter_notebook_config.py' in the home directory. You can rename it as shown below.\n",
    "#### When launching Jupyter, add the '--config' argument."
   ]
  },
  {
   "cell_type": "code",
   "execution_count": 111,
   "metadata": {},
   "outputs": [
    {
     "data": {
      "text/plain": [
       "'\\njupyter notebook --config=~/.jupyter/my_custom_config.py\\n'"
      ]
     },
     "execution_count": 111,
     "metadata": {},
     "output_type": "execute_result"
    }
   ],
   "source": [
    "# Create config file for Jupyter in console\n",
    "'''\n",
    "jupyter notebook --generate-config\n",
    "'''\n",
    "# Renaming the config file\n",
    "'''\n",
    "mv ~/.jupyter/jupyter_notebook_config.py ~/.jupyter/my_custom_config.py\n",
    "'''\n",
    "# Launching Jupyter with newly created config file\n",
    "'''\n",
    "jupyter notebook --config=~/.jupyter/my_custom_config.py\n",
    "'''"
   ]
  },
  {
   "cell_type": "code",
   "execution_count": null,
   "metadata": {},
   "outputs": [],
   "source": []
  }
 ],
 "metadata": {
  "kernelspec": {
   "display_name": "Python 3",
   "language": "python",
   "name": "python3"
  },
  "language_info": {
   "codemirror_mode": {
    "name": "ipython",
    "version": 3
   },
   "file_extension": ".py",
   "mimetype": "text/x-python",
   "name": "python",
   "nbconvert_exporter": "python",
   "pygments_lexer": "ipython3",
   "version": "3.6.5"
  }
 },
 "nbformat": 4,
 "nbformat_minor": 2
}
